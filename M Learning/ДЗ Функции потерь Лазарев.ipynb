{
 "cells": [
  {
   "cell_type": "code",
   "execution_count": 2,
   "metadata": {},
   "outputs": [],
   "source": [
    "from sklearn.datasets import load_iris\n",
    "import pandas as pd\n",
    "import numpy as np\n",
    "import matplotlib.pyplot as plt\n",
    "%matplotlib inline\n"
   ]
  },
  {
   "cell_type": "code",
   "execution_count": 91,
   "metadata": {},
   "outputs": [],
   "source": [
    "iris = load_iris()\n",
    "data = iris.data[50:]\n",
    "target = (iris.target[50:] - 1).reshape(100,1)"
   ]
  },
  {
   "cell_type": "code",
   "execution_count": 4,
   "metadata": {},
   "outputs": [],
   "source": [
    "data_norm = (data - data.mean())/data.std()"
   ]
  },
  {
   "cell_type": "code",
   "execution_count": 12,
   "metadata": {
    "scrolled": false
   },
   "outputs": [
    {
     "name": "stderr",
     "output_type": "stream",
     "text": [
      "/data/user/0/ru.iiec.pydroid3/files/aarch64-linux-android/lib/python3.7/site-packages/sklearn/utils/validation.py:761: DataConversionWarning: A column-vector y was passed when a 1d array was expected. Please change the shape of y to (n_samples, ), for example using ravel().\n",
      "  y = column_or_1d(y, warn=True)\n"
     ]
    },
    {
     "data": {
      "text/plain": [
       "LogisticRegression(C=1.0, class_weight=None, dual=False, fit_intercept=True,\n",
       "          intercept_scaling=1, max_iter=100, multi_class='warn',\n",
       "          n_jobs=None, penalty='l2', random_state=None, solver='liblinear',\n",
       "          tol=0.0001, verbose=0, warm_start=False)"
      ]
     },
     "execution_count": 12,
     "metadata": {},
     "output_type": "execute_result"
    }
   ],
   "source": [
    "from sklearn.linear_model import LogisticRegression\n",
    "lr = LogisticRegression(solver='liblinear')\n",
    "lr.fit(data, target)"
   ]
  },
  {
   "cell_type": "code",
   "execution_count": 90,
   "metadata": {},
   "outputs": [],
   "source": [
    "X = np.c_[np.ones(len(data_norm)), data]"
   ]
  },
  {
   "cell_type": "code",
   "execution_count": 56,
   "metadata": {},
   "outputs": [
    {
     "data": {
      "text/plain": [
       "array([[-1.21565523],\n",
       "       [-1.70690955],\n",
       "       [-1.53277945],\n",
       "       [ 2.46921149],\n",
       "       [ 2.5563083 ]])"
      ]
     },
     "execution_count": 56,
     "metadata": {},
     "output_type": "execute_result"
    }
   ],
   "source": [
    "theta = np.append(lr.intercept_,lr.coef_).reshape(5,1)\n",
    "theta"
   ]
  },
  {
   "cell_type": "code",
   "execution_count": 87,
   "metadata": {},
   "outputs": [
    {
     "data": {
      "text/plain": [
       "array([0.21587763])"
      ]
     },
     "execution_count": 87,
     "metadata": {},
     "output_type": "execute_result"
    }
   ],
   "source": [
    "cost(X, target)"
   ]
  },
  {
   "cell_type": "code",
   "execution_count": 86,
   "metadata": {},
   "outputs": [
    {
     "data": {
      "text/plain": [
       "0.97"
      ]
     },
     "execution_count": 86,
     "metadata": {},
     "output_type": "execute_result"
    }
   ],
   "source": [
    "lr.score(data, target)"
   ]
  },
  {
   "cell_type": "markdown",
   "metadata": {},
   "source": [
    "## Функции для расчета модели"
   ]
  },
  {
   "cell_type": "markdown",
   "metadata": {},
   "source": [
    "http://cs231n.github.io/neural-networks-3/#sgd"
   ]
  },
  {
   "cell_type": "code",
   "execution_count": 136,
   "metadata": {},
   "outputs": [],
   "source": [
    "theta = np.zeros((5,1))"
   ]
  },
  {
   "cell_type": "code",
   "execution_count": 6,
   "metadata": {},
   "outputs": [],
   "source": [
    "def decision_func(X):\n",
    "    return np.dot(X, theta)"
   ]
  },
  {
   "cell_type": "code",
   "execution_count": 7,
   "metadata": {},
   "outputs": [],
   "source": [
    "def logistic_func(X):\n",
    "    return 1 / (1 + np.exp(-decision_func(X)))"
   ]
  },
  {
   "cell_type": "code",
   "execution_count": 8,
   "metadata": {},
   "outputs": [],
   "source": [
    "def cost(X, y):\n",
    "    return -sum(y*np.log(logistic_func(X)) + (1-y)*(np.log(1-logistic_func(X)))) / len(y)"
   ]
  },
  {
   "cell_type": "code",
   "execution_count": 9,
   "metadata": {},
   "outputs": [],
   "source": [
    "def grad(X, y):\n",
    "    return np.dot(X.T, (logistic_func(X) - y)) / len(y)"
   ]
  },
  {
   "cell_type": "code",
   "execution_count": 10,
   "metadata": {},
   "outputs": [],
   "source": [
    "def predict(X):\n",
    "    return pd.DataFrame(X).apply(lambda x: 0 if logistic_func(x)<0.5 else 1, axis=1)"
   ]
  },
  {
   "cell_type": "markdown",
   "metadata": {},
   "source": [
    "## Стохастический Градиентный спуск"
   ]
  },
  {
   "cell_type": "code",
   "execution_count": 240,
   "metadata": {},
   "outputs": [
    {
     "name": "stdout",
     "output_type": "stream",
     "text": [
      "Полученные коэффициенты:\n",
      "[[-1.33854316 -2.27940998 -1.87464584  3.28847434  3.04815093]]\n",
      "\n",
      "Для сравнения коэффициенты, полученные sklearn:\n",
      "[-1.21565523 -1.70690955 -1.53277945  2.46921149  2.5563083 ]\n",
      "\n",
      "Достигнутая оценка (cost):\n",
      "[0.18171682]\n"
     ]
    },
    {
     "data": {
      "image/png": "[encoded data removed]",
      "text/plain": [
       "<Figure size 432x288 with 1 Axes>"
      ]
     },
     "metadata": {
      "needs_background": "light"
     },
     "output_type": "display_data"
    }
   ],
   "source": [
    "#Начальное значение\n",
    "theta = np.zeros((5,1))\n",
    "n_iter = 20\n",
    "m = len(target)\n",
    "a = 0.1\n",
    "\n",
    "costs=[]\n",
    "for _ in range(n_iter):\n",
    "    for i in range(m):\n",
    "        n = np.random.randint(m-1)\n",
    "        a = 5 / (m + i)\n",
    "        theta = theta - a * grad(X[n:n+1], target[n:n+1])\n",
    "    costs.append(cost(X, target))\n",
    "\n",
    "print('Полученные коэффициенты:')\n",
    "print(theta.reshape(1, -1))\n",
    "print('\\nДля сравнения коэффициенты, полученные sklearn:')\n",
    "print(np.append(lr.intercept_,lr.coef_))\n",
    "print('\\nДостигнутая оценка (cost):')\n",
    "print(cost(X, target))\n",
    "\n",
    "plt.plot(range(n_iter), costs)\n",
    "plt.title('Cost by epoch')\n",
    "plt.xlabel('epoch')\n",
    "plt.ylabel('cost')\n",
    "plt.show()"
   ]
  },
  {
   "cell_type": "code",
   "execution_count": 241,
   "metadata": {},
   "outputs": [
    {
     "data": {
      "text/plain": [
       "96"
      ]
     },
     "execution_count": 241,
     "metadata": {},
     "output_type": "execute_result"
    }
   ],
   "source": [
    "#Точность модели\n",
    "len(np.where((predict(X)==iris.target[50:]-1)==True)[0])"
   ]
  },
  {
   "cell_type": "markdown",
   "metadata": {},
   "source": [
    "## Momentum Optimization"
   ]
  },
  {
   "cell_type": "code",
   "execution_count": 209,
   "metadata": {},
   "outputs": [
    {
     "name": "stdout",
     "output_type": "stream",
     "text": [
      "Полученные коэффициенты:\n",
      "[[-1.0068326  -1.96412461 -1.52726404  2.76443354  2.52607222]]\n",
      "\n",
      "Для сравнения коэффициенты, полученные sklearn:\n",
      "[-1.21565523 -1.70690955 -1.53277945  2.46921149  2.5563083 ]\n",
      "\n",
      "Достигнутая оценка (cost):\n",
      "[0.21240734]\n"
     ]
    },
    {
     "data": {
      "image/png": "[encoded data removed]",
      "text/plain": [
       "<Figure size 432x288 with 1 Axes>"
      ]
     },
     "metadata": {
      "needs_background": "light"
     },
     "output_type": "display_data"
    }
   ],
   "source": [
    "theta = np.zeros((5,1))\n",
    "n_iter = 50\n",
    "m = len(target)\n",
    "mu=0.9\n",
    "v=0\n",
    "a=0.1\n",
    "\n",
    "costs=[]\n",
    "for _ in range(n_iter):\n",
    "    v = mu * v - a * grad(X, target)\n",
    "    theta = theta + v\n",
    "    costs.append(cost(X, target))\n",
    "\n",
    "print('Полученные коэффициенты:')\n",
    "print(theta.reshape(1, -1))\n",
    "print('\\nДля сравнения коэффициенты, полученные sklearn:')\n",
    "print(np.append(lr.intercept_,lr.coef_))\n",
    "print('\\nДостигнутая оценка (cost):')\n",
    "print(cost(X, target))\n",
    "\n",
    "plt.plot(range(n_iter), costs)\n",
    "plt.title('Cost by epoch')\n",
    "plt.xlabel('epoch')\n",
    "plt.ylabel('cost')\n",
    "plt.show()"
   ]
  },
  {
   "cell_type": "markdown",
   "metadata": {},
   "source": [
    "## Nesterov momentum"
   ]
  },
  {
   "cell_type": "code",
   "execution_count": 213,
   "metadata": {},
   "outputs": [
    {
     "name": "stdout",
     "output_type": "stream",
     "text": [
      "Полученные коэффициенты:\n",
      "[[-0.96430122 -1.95280016 -1.49265375  2.74326394  2.45160598]]\n",
      "\n",
      "Для сравнения коэффициенты, полученные sklearn:\n",
      "[-1.21565523 -1.70690955 -1.53277945  2.46921149  2.5563083 ]\n",
      "\n",
      "Достигнутая оценка (cost):\n",
      "[0.21587763]\n"
     ]
    },
    {
     "data": {
      "image/png": "[encoded data removed]",
      "text/plain": [
       "<Figure size 432x288 with 1 Axes>"
      ]
     },
     "metadata": {
      "needs_background": "light"
     },
     "output_type": "display_data"
    }
   ],
   "source": [
    "theta = np.zeros((5,1))\n",
    "n_iter = 42\n",
    "m = len(target)\n",
    "mu=0.9\n",
    "v=0\n",
    "a=0.1\n",
    "\n",
    "costs=[]\n",
    "for _ in range(n_iter):\n",
    "    v_prev = v\n",
    "    v = mu * v - a * grad(X, target)\n",
    "    theta += -mu * v_prev + (1 + mu) * v\n",
    "    costs.append(cost(X, target))\n",
    "\n",
    "print('Полученные коэффициенты:')\n",
    "print(theta.reshape(1, -1))\n",
    "print('\\nДля сравнения коэффициенты, полученные sklearn:')\n",
    "print(np.append(lr.intercept_,lr.coef_))\n",
    "print('\\nДостигнутая оценка (cost):')\n",
    "print(cost(X, target))\n",
    "\n",
    "plt.plot(range(n_iter), costs)\n",
    "plt.title('Cost by epoch')\n",
    "plt.xlabel('epoch')\n",
    "plt.ylabel('cost')\n",
    "plt.show()"
   ]
  },
  {
   "cell_type": "markdown",
   "metadata": {},
   "source": [
    "## RMSProp"
   ]
  },
  {
   "cell_type": "code",
   "execution_count": 224,
   "metadata": {},
   "outputs": [
    {
     "name": "stdout",
     "output_type": "stream",
     "text": [
      "Полученные коэффициенты:\n",
      "[[-2.63664348 -0.60943018 -0.97256253  0.98889082  2.4578052 ]]\n",
      "\n",
      "Для сравнения коэффициенты, полученные sklearn:\n",
      "[-1.21565523 -1.70690955 -1.53277945  2.46921149  2.5563083 ]\n",
      "\n",
      "Достигнутая оценка (cost):\n",
      "[0.30636633]\n"
     ]
    },
    {
     "data": {
      "image/png": "[encoded data removed]",
      "text/plain": [
       "<Figure size 432x288 with 1 Axes>"
      ]
     },
     "metadata": {
      "needs_background": "light"
     },
     "output_type": "display_data"
    }
   ],
   "source": [
    "theta = np.zeros((5,1))\n",
    "n_iter = 100\n",
    "decay_rate = 0.99\n",
    "cache = 0\n",
    "a = 0.1\n",
    "eps = 1e-8\n",
    "\n",
    "costs=[]\n",
    "for _ in range(n_iter):\n",
    "    cache = decay_rate * cache + (1 - decay_rate) * grad(X, target)**2\n",
    "    theta = theta - a * grad(X, target) / (np.sqrt(cache) + eps)\n",
    "    costs.append(cost(X, target))\n",
    "\n",
    "print('Полученные коэффициенты:')\n",
    "print(theta.reshape(1, -1))\n",
    "print('\\nДля сравнения коэффициенты, полученные sklearn:')\n",
    "print(np.append(lr.intercept_,lr.coef_))\n",
    "print('\\nДостигнутая оценка (cost):')\n",
    "print(cost(X, target))\n",
    "\n",
    "plt.plot(range(n_iter), costs)\n",
    "plt.title('Cost by epoch')\n",
    "plt.xlabel('epoch')\n",
    "plt.ylabel('cost')\n",
    "plt.show()"
   ]
  },
  {
   "cell_type": "code",
   "execution_count": null,
   "metadata": {},
   "outputs": [],
   "source": []
  }
 ],
 "metadata": {
  "kernelspec": {
   "display_name": "Python 3",
   "language": "python",
   "name": "python3"
  },
  "language_info": {
   "codemirror_mode": {
    "name": "ipython",
    "version": 3
   },
   "file_extension": ".py",
   "mimetype": "text/x-python",
   "name": "python",
   "nbconvert_exporter": "python",
   "pygments_lexer": "ipython3",
   "version": "3.7.2"
  }
 },
 "nbformat": 4,
 "nbformat_minor": 2
}
