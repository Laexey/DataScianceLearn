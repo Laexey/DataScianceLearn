{
  "nbformat": 4,
  "nbformat_minor": 0,
  "metadata": {
    "kernelspec": {
      "display_name": "Python 3",
      "language": "python",
      "name": "python3"
    },
    "language_info": {
      "codemirror_mode": {
        "name": "ipython",
        "version": 3
      },
      "file_extension": ".py",
      "mimetype": "text/x-python",
      "name": "python",
      "nbconvert_exporter": "python",
      "pygments_lexer": "ipython3",
      "version": "3.7.2"
    },
    "colab": {
      "name": "Наивный Байесковский классификатор ДЗ.ipynb",
      "provenance": [],
      "collapsed_sections": [
        "sJFDjWNkBBeg",
        "W7F2Q_4wBBfa",
        "7R92eN5sBBfm",
        "ZwQDA7a-BBf-",
        "Ou_dFqqABBgH",
        "RBbsJVbqBBgO",
        "4FMny9vYBBgo"
      ],
      "include_colab_link": true
    }
  },
  "cells": [
    {
      "cell_type": "markdown",
      "metadata": {
        "id": "view-in-github",
        "colab_type": "text"
      },
      "source": [
        "<a href=\"https://colab.research.google.com/github/Laexey/DataScianceLearn/blob/master/%D0%9D%D0%B0%D0%B8%D0%B2%D0%BD%D1%8B%D0%B9_%D0%91%D0%B0%D0%B9%D0%B5%D1%81%D0%BA%D0%BE%D0%B2%D1%81%D0%BA%D0%B8%D0%B9_%D0%BA%D0%BB%D0%B0%D1%81%D1%81%D0%B8%D1%84%D0%B8%D0%BA%D0%B0%D1%82%D0%BE%D1%80_%D0%94%D0%97.ipynb\" target=\"_parent\"><img src=\"https://colab.research.google.com/assets/colab-badge.svg\" alt=\"Open In Colab\"/></a>"
      ]
    },
    {
      "cell_type": "markdown",
      "metadata": {
        "id": "QZKupAtCBBcx",
        "colab_type": "text"
      },
      "source": [
        "## Манипулирование данными"
      ]
    },
    {
      "cell_type": "markdown",
      "metadata": {
        "id": "aA8AEAwKBBc5",
        "colab_type": "text"
      },
      "source": [
        "Невозможно что-либо сделать, если мы не умеем манипулировать данными. Две основные операции, которые нам нужно сделать с данными - (i) получить их и (ii) обработать. Нет смысла собирать данные, если мы даже не знаем, как их хранить, поэтому давайте сначала поработаем с синтетическими данными. Мы начнем с torch.tensor. Это основной инструмент для хранения и преобразования данных в torch. Если вы раньше работали с NumPy, вы заметите, что он по своей конструкции очень похож на многомерный массив NumPy. Тем не менее, он даёт несколько ключевых преимуществ. Во-первых, torch.tensor поддерживает асинхронные вычисления на CPU и GPU. Во-вторых, он обеспечивает поддержку автоматического дифференцирования.\n",
        "\n",
        "Начнем с импорта torch"
      ]
    },
    {
      "cell_type": "code",
      "metadata": {
        "ExecuteTime": {
          "end_time": "2019-11-04T10:14:16.567789Z",
          "start_time": "2019-11-04T10:14:16.347872Z"
        },
        "id": "YxVXeSrBBBc7",
        "colab_type": "code",
        "colab": {}
      },
      "source": [
        "import torch\n",
        "import numpy as np\n"
      ],
      "execution_count": 0,
      "outputs": []
    },
    {
      "cell_type": "markdown",
      "metadata": {
        "id": "mmTeYQIxBBdH",
        "colab_type": "text"
      },
      "source": [
        "Tensor - есть массив (возможно, многомерный) числовых значений. tensor с одной осью называется (в математике) вектором, с двумя - матрицей. Для массивов с более чем двумя осями нет специальных имен - их называют просто тензорами.\n",
        "Самый простой объект, который мы можем создать - это вектор. Для начала мы можем использовать arange для создания вектора строки с 12 последовательными целыми числами."
      ]
    },
    {
      "cell_type": "code",
      "metadata": {
        "ExecuteTime": {
          "end_time": "2019-11-04T10:14:17.372987Z",
          "start_time": "2019-11-04T10:14:17.356289Z"
        },
        "id": "yMur5I0JBBdJ",
        "colab_type": "code",
        "outputId": "d29b6bc4-6bbc-406e-e218-f7773a8f2081",
        "colab": {
          "base_uri": "https://localhost:8080/",
          "height": 34
        }
      },
      "source": [
        "x = torch.arange(12)\n",
        "x"
      ],
      "execution_count": 0,
      "outputs": [
        {
          "output_type": "execute_result",
          "data": {
            "text/plain": [
              "tensor([ 0,  1,  2,  3,  4,  5,  6,  7,  8,  9, 10, 11])"
            ]
          },
          "metadata": {
            "tags": []
          },
          "execution_count": 2
        }
      ]
    },
    {
      "cell_type": "code",
      "metadata": {
        "id": "Akk6v8qOBQQC",
        "colab_type": "code",
        "outputId": "83dd5446-19a8-43ca-9436-f79669f7bbcf",
        "colab": {
          "base_uri": "https://localhost:8080/",
          "height": 34
        }
      },
      "source": [
        "x[x==1]"
      ],
      "execution_count": 0,
      "outputs": [
        {
          "output_type": "execute_result",
          "data": {
            "text/plain": [
              "tensor([1])"
            ]
          },
          "metadata": {
            "tags": []
          },
          "execution_count": 3
        }
      ]
    },
    {
      "cell_type": "markdown",
      "metadata": {
        "id": "Npk8AUPRBBdQ",
        "colab_type": "text"
      },
      "source": [
        "Мы можем получить форму экземпляра tensor через свойство shape."
      ]
    },
    {
      "cell_type": "code",
      "metadata": {
        "ExecuteTime": {
          "end_time": "2019-11-04T10:14:18.208820Z",
          "start_time": "2019-11-04T10:14:18.203579Z"
        },
        "scrolled": true,
        "id": "ImD4zx7zBBdS",
        "colab_type": "code",
        "outputId": "36b057fc-15d4-4da9-dbe9-e01ba735fd7d",
        "colab": {
          "base_uri": "https://localhost:8080/",
          "height": 34
        }
      },
      "source": [
        "x.shape"
      ],
      "execution_count": 0,
      "outputs": [
        {
          "output_type": "execute_result",
          "data": {
            "text/plain": [
              "torch.Size([12])"
            ]
          },
          "metadata": {
            "tags": []
          },
          "execution_count": 4
        }
      ]
    },
    {
      "cell_type": "markdown",
      "metadata": {
        "id": "k6H90QdkBBdZ",
        "colab_type": "text"
      },
      "source": [
        "Узнать расположен ли он на gpu или cpu можно через специальный аттрибут - device"
      ]
    },
    {
      "cell_type": "code",
      "metadata": {
        "ExecuteTime": {
          "end_time": "2019-11-04T10:14:19.063918Z",
          "start_time": "2019-11-04T10:14:19.059582Z"
        },
        "id": "piCMakToBBdb",
        "colab_type": "code",
        "outputId": "67b09d65-ab77-4dd4-d396-e067075be039",
        "colab": {
          "base_uri": "https://localhost:8080/",
          "height": 34
        }
      },
      "source": [
        "x.device"
      ],
      "execution_count": 0,
      "outputs": [
        {
          "output_type": "execute_result",
          "data": {
            "text/plain": [
              "device(type='cpu')"
            ]
          },
          "metadata": {
            "tags": []
          },
          "execution_count": 5
        }
      ]
    },
    {
      "cell_type": "markdown",
      "metadata": {
        "id": "b2_tuZUVBBdm",
        "colab_type": "text"
      },
      "source": [
        "Мы используем функцию view, чтобы изменить форму одного (возможно многомерного) массива на другой, который содержит такое же количество элементов. Например, мы можем преобразовать форму нашего векторного вектора x в (3, 4), который содержит те же значения, но интерпретирует их как матрицу, содержащую 3 строки и 4 столбца. Обратите внимание, что, хотя форма изменилась, элементы в x не изменились. Причем количество элементов осталось прежним."
      ]
    },
    {
      "cell_type": "code",
      "metadata": {
        "ExecuteTime": {
          "end_time": "2019-11-04T10:14:19.880948Z",
          "start_time": "2019-11-04T10:14:19.875637Z"
        },
        "id": "cWhubGeiBBdp",
        "colab_type": "code",
        "outputId": "9c9b228a-dd68-416a-f767-60cc827cfd2f",
        "colab": {
          "base_uri": "https://localhost:8080/",
          "height": 68
        }
      },
      "source": [
        "x.view((3,4))"
      ],
      "execution_count": 0,
      "outputs": [
        {
          "output_type": "execute_result",
          "data": {
            "text/plain": [
              "tensor([[ 0,  1,  2,  3],\n",
              "        [ 4,  5,  6,  7],\n",
              "        [ 8,  9, 10, 11]])"
            ]
          },
          "metadata": {
            "tags": []
          },
          "execution_count": 6
        }
      ]
    },
    {
      "cell_type": "markdown",
      "metadata": {
        "id": "i_DZp9eLBBdv",
        "colab_type": "text"
      },
      "source": [
        "Указывать каждое измерение вручную достаточно утомительно. К счастью, torch может автоматически выводить одно измерение, учитывая другие. Мы можем указать -1 для измерения, которое мы хотели бы, чтобы torch автоматически выводил. В нашем случае вместо x.view((3, 4)) мы могли бы использовать x.view ((- 1, 4)) или x.view((3, -1))."
      ]
    },
    {
      "cell_type": "code",
      "metadata": {
        "ExecuteTime": {
          "end_time": "2019-11-04T10:14:20.729317Z",
          "start_time": "2019-11-04T10:14:20.723038Z"
        },
        "id": "EPo6TawiBBdw",
        "colab_type": "code",
        "outputId": "26e857c4-a874-4d2b-de3e-e28bb539c3ff",
        "colab": {
          "base_uri": "https://localhost:8080/",
          "height": 68
        }
      },
      "source": [
        "x.view((-1, 4))"
      ],
      "execution_count": 0,
      "outputs": [
        {
          "output_type": "execute_result",
          "data": {
            "text/plain": [
              "tensor([[ 0,  1,  2,  3],\n",
              "        [ 4,  5,  6,  7],\n",
              "        [ 8,  9, 10, 11]])"
            ]
          },
          "metadata": {
            "tags": []
          },
          "execution_count": 7
        }
      ]
    },
    {
      "cell_type": "markdown",
      "metadata": {
        "id": "et59j49IBBd3",
        "colab_type": "text"
      },
      "source": [
        "Другие две полезные функции - zeros и ones. Они создают массивы из всех нулей и всех единиц. Они принимают форму создаваемого тензора в качестве параметра"
      ]
    },
    {
      "cell_type": "code",
      "metadata": {
        "ExecuteTime": {
          "end_time": "2019-11-04T10:14:21.649246Z",
          "start_time": "2019-11-04T10:14:21.643331Z"
        },
        "id": "sEWyUwoYBBd5",
        "colab_type": "code",
        "outputId": "6ac3018d-289a-48dd-c077-33ebbe0d9440",
        "colab": {}
      },
      "source": [
        "torch.zeros((2,3,4))"
      ],
      "execution_count": 0,
      "outputs": [
        {
          "output_type": "execute_result",
          "data": {
            "text/plain": [
              "tensor([[[0., 0., 0., 0.],\n",
              "         [0., 0., 0., 0.],\n",
              "         [0., 0., 0., 0.]],\n",
              "\n",
              "        [[0., 0., 0., 0.],\n",
              "         [0., 0., 0., 0.],\n",
              "         [0., 0., 0., 0.]]])"
            ]
          },
          "metadata": {
            "tags": []
          },
          "execution_count": 7
        }
      ]
    },
    {
      "cell_type": "code",
      "metadata": {
        "ExecuteTime": {
          "end_time": "2019-11-04T10:14:22.158209Z",
          "start_time": "2019-11-04T10:14:22.150974Z"
        },
        "id": "2Tt4icDhBBeB",
        "colab_type": "code",
        "outputId": "25f22cdd-0309-42e3-9d43-d070a19b2bb4",
        "colab": {}
      },
      "source": [
        "torch.ones((2,3,4))"
      ],
      "execution_count": 0,
      "outputs": [
        {
          "output_type": "execute_result",
          "data": {
            "text/plain": [
              "tensor([[[1., 1., 1., 1.],\n",
              "         [1., 1., 1., 1.],\n",
              "         [1., 1., 1., 1.]],\n",
              "\n",
              "        [[1., 1., 1., 1.],\n",
              "         [1., 1., 1., 1.],\n",
              "         [1., 1., 1., 1.]]])"
            ]
          },
          "metadata": {
            "tags": []
          },
          "execution_count": 8
        }
      ]
    },
    {
      "cell_type": "markdown",
      "metadata": {
        "id": "aX1hlKXLBBeI",
        "colab_type": "text"
      },
      "source": [
        "Конечно же, можно создать тензор явно указав все значения"
      ]
    },
    {
      "cell_type": "code",
      "metadata": {
        "ExecuteTime": {
          "end_time": "2019-11-04T10:14:23.152529Z",
          "start_time": "2019-11-04T10:14:23.146816Z"
        },
        "id": "PigbFULWBBeK",
        "colab_type": "code",
        "outputId": "a6f5124e-2e99-4c39-c6ac-810e2e0eeb74",
        "colab": {}
      },
      "source": [
        "torch.tensor([[1,2,3], [4,5,6]])"
      ],
      "execution_count": 0,
      "outputs": [
        {
          "output_type": "execute_result",
          "data": {
            "text/plain": [
              "tensor([[1, 2, 3],\n",
              "        [4, 5, 6]])"
            ]
          },
          "metadata": {
            "tags": []
          },
          "execution_count": 9
        }
      ]
    },
    {
      "cell_type": "markdown",
      "metadata": {
        "id": "73MEZb75BBeP",
        "colab_type": "text"
      },
      "source": [
        "Иногда бывает полезно создать массив, заполненный случайными значениями. Для этого используются функции torch.rand и torch.randn. Первое использовает равномерное распределение, второе - нормальное"
      ]
    },
    {
      "cell_type": "code",
      "metadata": {
        "ExecuteTime": {
          "end_time": "2019-11-04T10:14:23.845174Z",
          "start_time": "2019-11-04T10:14:23.839071Z"
        },
        "id": "xiTb6jHGBBeR",
        "colab_type": "code",
        "outputId": "0bfd89bc-3ff3-4de7-ec29-6bef21e50dbb",
        "colab": {}
      },
      "source": [
        "torch.rand((2,3,4))"
      ],
      "execution_count": 0,
      "outputs": [
        {
          "output_type": "execute_result",
          "data": {
            "text/plain": [
              "tensor([[[0.0708, 0.2296, 0.4450, 0.9017],\n",
              "         [0.1158, 0.2667, 0.5985, 0.5189],\n",
              "         [0.9540, 0.8991, 0.8680, 0.5266]],\n",
              "\n",
              "        [[0.5922, 0.8190, 0.6019, 0.6009],\n",
              "         [0.2222, 0.6272, 0.1245, 0.8057],\n",
              "         [0.5222, 0.7053, 0.6654, 0.1968]]])"
            ]
          },
          "metadata": {
            "tags": []
          },
          "execution_count": 10
        }
      ]
    },
    {
      "cell_type": "code",
      "metadata": {
        "ExecuteTime": {
          "end_time": "2019-11-04T10:14:24.535647Z",
          "start_time": "2019-11-04T10:14:24.529761Z"
        },
        "id": "pxcj5nXEBBeb",
        "colab_type": "code",
        "outputId": "64d8880a-266d-4358-83ae-a303e6cbdd01",
        "colab": {
          "base_uri": "https://localhost:8080/",
          "height": 137
        }
      },
      "source": [
        "torch.randn((2,3,4))"
      ],
      "execution_count": 0,
      "outputs": [
        {
          "output_type": "execute_result",
          "data": {
            "text/plain": [
              "tensor([[[ 0.4575, -0.3773,  1.9346, -0.6318],\n",
              "         [ 1.4211, -0.3359, -0.1955, -0.0635],\n",
              "         [ 0.4617, -0.6983, -0.2001,  1.7809]],\n",
              "\n",
              "        [[ 0.8504, -0.5344, -0.3417,  1.0650],\n",
              "         [-0.5269,  0.2748, -0.3814, -0.7334],\n",
              "         [-1.1421, -0.9808,  0.6546,  0.8337]]])"
            ]
          },
          "metadata": {
            "tags": []
          },
          "execution_count": 9
        }
      ]
    },
    {
      "cell_type": "markdown",
      "metadata": {
        "id": "sJFDjWNkBBeg",
        "colab_type": "text"
      },
      "source": [
        "## Операции"
      ]
    },
    {
      "cell_type": "markdown",
      "metadata": {
        "id": "Ko1PtspQBBeh",
        "colab_type": "text"
      },
      "source": [
        "Обычно мы хотим не только создавать массивы, но и применять к ним функции. Самые простые и полезные из них - это поэлементные функции. Они работают, выполняя одну скалярную операцию над соответствующими элементами двух массивов. "
      ]
    },
    {
      "cell_type": "code",
      "metadata": {
        "ExecuteTime": {
          "end_time": "2019-11-04T10:14:26.032545Z",
          "start_time": "2019-11-04T10:14:26.019806Z"
        },
        "id": "uof9XhvcBBej",
        "colab_type": "code",
        "outputId": "6061aad4-c40c-47e4-946c-20b25ad02c30",
        "colab": {
          "base_uri": "https://localhost:8080/",
          "height": 120
        }
      },
      "source": [
        "x = torch.tensor([1., 2., 4., 8.])\n",
        "y = torch.ones_like(x) * 2\n",
        "print('x =', x)\n",
        "print('y =', y)\n",
        "print('x + y', x + y)\n",
        "print('x - y', x - y)\n",
        "print('x * y', x * y)\n",
        "print('x / y', x / y)"
      ],
      "execution_count": 0,
      "outputs": [
        {
          "output_type": "stream",
          "text": [
            "x = tensor([1., 2., 4., 8.])\n",
            "y = tensor([2., 2., 2., 2.])\n",
            "x + y tensor([ 3.,  4.,  6., 10.])\n",
            "x - y tensor([-1.,  0.,  2.,  6.])\n",
            "x * y tensor([ 2.,  4.,  8., 16.])\n",
            "x / y tensor([0.5000, 1.0000, 2.0000, 4.0000])\n"
          ],
          "name": "stdout"
        }
      ]
    },
    {
      "cell_type": "markdown",
      "metadata": {
        "ExecuteTime": {
          "end_time": "2019-10-15T19:38:22.460619Z",
          "start_time": "2019-10-15T19:38:22.450666Z"
        },
        "id": "ipNm0dBPBBeo",
        "colab_type": "text"
      },
      "source": [
        "Еще больше операций может быть выполненно поэлементно. Например - операции exp"
      ]
    },
    {
      "cell_type": "code",
      "metadata": {
        "ExecuteTime": {
          "end_time": "2019-11-04T10:14:26.798539Z",
          "start_time": "2019-11-04T10:14:26.793446Z"
        },
        "id": "Vvh4zO0GBBep",
        "colab_type": "code",
        "outputId": "6ddc952a-17cb-47d9-c225-43d6badbe7e9",
        "colab": {}
      },
      "source": [
        "x.exp()"
      ],
      "execution_count": 0,
      "outputs": [
        {
          "output_type": "execute_result",
          "data": {
            "text/plain": [
              "tensor([2.7183e+00, 7.3891e+00, 5.4598e+01, 2.9810e+03])"
            ]
          },
          "metadata": {
            "tags": []
          },
          "execution_count": 13
        }
      ]
    },
    {
      "cell_type": "markdown",
      "metadata": {
        "id": "WtHOLkByBBeu",
        "colab_type": "text"
      },
      "source": [
        "В дополнение к поэлементным вычислениям, мы также можем выполнять матричные операции. Например, матричное умножение. Для этого используется функция mm."
      ]
    },
    {
      "cell_type": "code",
      "metadata": {
        "ExecuteTime": {
          "end_time": "2019-11-04T10:14:27.634306Z",
          "start_time": "2019-11-04T10:14:27.627369Z"
        },
        "id": "pxj4D73jBBew",
        "colab_type": "code",
        "outputId": "e70378b3-b241-42f0-bde0-00d41f41b474",
        "colab": {
          "base_uri": "https://localhost:8080/",
          "height": 68
        }
      },
      "source": [
        "x = torch.arange(12).reshape((3,4))\n",
        "y = torch.tensor([[2, 1, 4, 3], [1, 2, 3, 4], [4, 3, 2, 1]])\n",
        "torch.mm(x, y.T)"
      ],
      "execution_count": 0,
      "outputs": [
        {
          "output_type": "execute_result",
          "data": {
            "text/plain": [
              "tensor([[ 18,  20,  10],\n",
              "        [ 58,  60,  50],\n",
              "        [ 98, 100,  90]])"
            ]
          },
          "metadata": {
            "tags": []
          },
          "execution_count": 12
        }
      ]
    },
    {
      "cell_type": "markdown",
      "metadata": {
        "id": "N5JQ2t2qBBe1",
        "colab_type": "text"
      },
      "source": [
        "Мы также можем объединить несколько тензоров. Для этого нам нужно указать, по какому измерению производить объединение. В приведенном ниже примере объединяются две матрицы по измерению 0 (по строкам) и измерению 1 (по столбцам) соответственно."
      ]
    },
    {
      "cell_type": "code",
      "metadata": {
        "ExecuteTime": {
          "end_time": "2019-11-04T10:14:28.280923Z",
          "start_time": "2019-11-04T10:14:28.275297Z"
        },
        "id": "VzhKhLIBBBe3",
        "colab_type": "code",
        "outputId": "7f5e4078-8789-4f78-ba32-ab21404211e5",
        "colab": {
          "base_uri": "https://localhost:8080/",
          "height": 120
        }
      },
      "source": [
        "torch.cat((x, y), dim=0)"
      ],
      "execution_count": 0,
      "outputs": [
        {
          "output_type": "execute_result",
          "data": {
            "text/plain": [
              "tensor([[ 0,  1,  2,  3],\n",
              "        [ 4,  5,  6,  7],\n",
              "        [ 8,  9, 10, 11],\n",
              "        [ 2,  1,  4,  3],\n",
              "        [ 1,  2,  3,  4],\n",
              "        [ 4,  3,  2,  1]])"
            ]
          },
          "metadata": {
            "tags": []
          },
          "execution_count": 13
        }
      ]
    },
    {
      "cell_type": "code",
      "metadata": {
        "ExecuteTime": {
          "end_time": "2019-11-04T10:14:28.620471Z",
          "start_time": "2019-11-04T10:14:28.615092Z"
        },
        "id": "fP3CDfa0BBe8",
        "colab_type": "code",
        "outputId": "2bf92507-eb0b-4a0f-d08b-ca65b0b97014",
        "colab": {}
      },
      "source": [
        "torch.cat((x, y), dim=1)"
      ],
      "execution_count": 0,
      "outputs": [
        {
          "output_type": "execute_result",
          "data": {
            "text/plain": [
              "tensor([[ 0,  1,  2,  3,  2,  1,  4,  3],\n",
              "        [ 4,  5,  6,  7,  1,  2,  3,  4],\n",
              "        [ 8,  9, 10, 11,  4,  3,  2,  1]])"
            ]
          },
          "metadata": {
            "tags": []
          },
          "execution_count": 16
        }
      ]
    },
    {
      "cell_type": "markdown",
      "metadata": {
        "id": "4ilw5basBBfG",
        "colab_type": "text"
      },
      "source": [
        "Для получения булевых тензоров можно использовать булевы операторы. Например, можно сравнить два тензора при помощи оператора =="
      ]
    },
    {
      "cell_type": "code",
      "metadata": {
        "ExecuteTime": {
          "end_time": "2019-11-04T10:14:29.471560Z",
          "start_time": "2019-11-04T10:14:29.467255Z"
        },
        "scrolled": true,
        "id": "JE32hGLdBBfH",
        "colab_type": "code",
        "outputId": "3824aa31-2248-48a4-abf1-b963a1815899",
        "colab": {
          "base_uri": "https://localhost:8080/",
          "height": 68
        }
      },
      "source": [
        "x == y"
      ],
      "execution_count": 0,
      "outputs": [
        {
          "output_type": "execute_result",
          "data": {
            "text/plain": [
              "tensor([[False,  True, False,  True],\n",
              "        [False, False, False, False],\n",
              "        [False, False, False, False]])"
            ]
          },
          "metadata": {
            "tags": []
          },
          "execution_count": 14
        }
      ]
    },
    {
      "cell_type": "markdown",
      "metadata": {
        "id": "VOnEqvQTBBfP",
        "colab_type": "text"
      },
      "source": [
        "Суммирование всех элементов тезора дает тензор с одним элементом."
      ]
    },
    {
      "cell_type": "code",
      "metadata": {
        "ExecuteTime": {
          "end_time": "2019-11-04T10:14:30.004374Z",
          "start_time": "2019-11-04T10:14:29.998934Z"
        },
        "id": "YBVytoViBBfQ",
        "colab_type": "code",
        "outputId": "091fb0c7-fc85-4818-b2d8-822e31f48f70",
        "colab": {
          "base_uri": "https://localhost:8080/",
          "height": 34
        }
      },
      "source": [
        "x.sum()"
      ],
      "execution_count": 0,
      "outputs": [
        {
          "output_type": "execute_result",
          "data": {
            "text/plain": [
              "tensor(66)"
            ]
          },
          "metadata": {
            "tags": []
          },
          "execution_count": 15
        }
      ]
    },
    {
      "cell_type": "markdown",
      "metadata": {
        "id": "WKOHhcM9BBfU",
        "colab_type": "text"
      },
      "source": [
        "Мы можем преобразовать результат в скаляр в Python, используя функцию item"
      ]
    },
    {
      "cell_type": "code",
      "metadata": {
        "ExecuteTime": {
          "end_time": "2019-11-04T10:14:30.596014Z",
          "start_time": "2019-11-04T10:14:30.591238Z"
        },
        "id": "e-aEkED_BBfW",
        "colab_type": "code",
        "outputId": "2a95b9db-040e-4768-da36-4be5e74b8684",
        "colab": {
          "base_uri": "https://localhost:8080/",
          "height": 34
        }
      },
      "source": [
        "x.sum().item()"
      ],
      "execution_count": 0,
      "outputs": [
        {
          "output_type": "execute_result",
          "data": {
            "text/plain": [
              "66"
            ]
          },
          "metadata": {
            "tags": []
          },
          "execution_count": 16
        }
      ]
    },
    {
      "cell_type": "markdown",
      "metadata": {
        "id": "W7F2Q_4wBBfa",
        "colab_type": "text"
      },
      "source": [
        "## Broadcast \n",
        "\n",
        "Выполнять операции можно не только с тензорами одинакового размера, но и разного. Когда их формы различаются, запускается механизм broadcast'а: Сначала элементы копируются соответствующим образом, чтобы два тензора имели одинаковую форму, а затем операции выполняются поэлементно."
      ]
    },
    {
      "cell_type": "code",
      "metadata": {
        "ExecuteTime": {
          "end_time": "2019-11-04T10:14:31.348854Z",
          "start_time": "2019-11-04T10:14:31.342921Z"
        },
        "scrolled": true,
        "id": "aDQqo61cBBfc",
        "colab_type": "code",
        "outputId": "d49d420e-a06e-4dc6-d7b4-7eac6623769e",
        "colab": {}
      },
      "source": [
        "a = torch.arange(3).reshape((3, 1))\n",
        "b = torch.arange(2).reshape((1, 2))\n",
        "a, b"
      ],
      "execution_count": 0,
      "outputs": [
        {
          "output_type": "execute_result",
          "data": {
            "text/plain": [
              "(tensor([[0],\n",
              "         [1],\n",
              "         [2]]), tensor([[0, 1]]))"
            ]
          },
          "metadata": {
            "tags": []
          },
          "execution_count": 20
        }
      ]
    },
    {
      "cell_type": "markdown",
      "metadata": {
        "id": "59oyl_2lBBfg",
        "colab_type": "text"
      },
      "source": [
        "Поскольку a и b являются матрицами (3x1) и (1x2) соответственно, их формы не совпадают. Torch решает эту проблему путем broadcast'а значений обеих матриц в большую (3x2) матрицу следующим образом: для матрицы a он реплицирует столбцы, для матрицы b он реплицирует строки. После чего запускается операция сложения"
      ]
    },
    {
      "cell_type": "code",
      "metadata": {
        "ExecuteTime": {
          "end_time": "2019-11-04T10:14:31.915612Z",
          "start_time": "2019-11-04T10:14:31.910912Z"
        },
        "id": "1Om_y7F8BBfh",
        "colab_type": "code",
        "outputId": "c85fb807-346f-4dcd-d4ed-04e24a901f7f",
        "colab": {}
      },
      "source": [
        "a + b"
      ],
      "execution_count": 0,
      "outputs": [
        {
          "output_type": "execute_result",
          "data": {
            "text/plain": [
              "tensor([[0, 1],\n",
              "        [1, 2],\n",
              "        [2, 3]])"
            ]
          },
          "metadata": {
            "tags": []
          },
          "execution_count": 21
        }
      ]
    },
    {
      "cell_type": "markdown",
      "metadata": {
        "id": "7R92eN5sBBfm",
        "colab_type": "text"
      },
      "source": [
        "## Индексирование\n",
        "\n",
        "Как и в любом другом массиве Python, элементы в тензоре могут быть доступны по их индексу. По традиции первый элемент имеет индекс 0, а диапазоны указываются для включения первого, но не последнего элемента. По этой логике `1: 3` выбирает второй и третий элемент из тензора"
      ]
    },
    {
      "cell_type": "code",
      "metadata": {
        "ExecuteTime": {
          "end_time": "2019-11-04T10:14:32.723721Z",
          "start_time": "2019-11-04T10:14:32.719130Z"
        },
        "id": "LcGhu4n1BBfn",
        "colab_type": "code",
        "outputId": "d0b9cd7b-e968-4e43-c4f4-224f910502c5",
        "colab": {}
      },
      "source": [
        "x"
      ],
      "execution_count": 0,
      "outputs": [
        {
          "output_type": "execute_result",
          "data": {
            "text/plain": [
              "tensor([[ 0,  1,  2,  3],\n",
              "        [ 4,  5,  6,  7],\n",
              "        [ 8,  9, 10, 11]])"
            ]
          },
          "metadata": {
            "tags": []
          },
          "execution_count": 22
        }
      ]
    },
    {
      "cell_type": "code",
      "metadata": {
        "ExecuteTime": {
          "end_time": "2019-11-04T10:14:32.939575Z",
          "start_time": "2019-11-04T10:14:32.934721Z"
        },
        "id": "VCfubpFIBBfu",
        "colab_type": "code",
        "outputId": "425ff5f7-6091-41a5-95ca-d8c90bb450e1",
        "colab": {}
      },
      "source": [
        "x[1:3]"
      ],
      "execution_count": 0,
      "outputs": [
        {
          "output_type": "execute_result",
          "data": {
            "text/plain": [
              "tensor([[ 4,  5,  6,  7],\n",
              "        [ 8,  9, 10, 11]])"
            ]
          },
          "metadata": {
            "tags": []
          },
          "execution_count": 23
        }
      ]
    },
    {
      "cell_type": "markdown",
      "metadata": {
        "id": "YpnHfVGdBBfy",
        "colab_type": "text"
      },
      "source": [
        "Мы так же можем изменять значения в тензоре"
      ]
    },
    {
      "cell_type": "code",
      "metadata": {
        "ExecuteTime": {
          "end_time": "2019-11-04T10:14:33.555946Z",
          "start_time": "2019-11-04T10:14:33.550844Z"
        },
        "id": "VnXKAFzABBfz",
        "colab_type": "code",
        "outputId": "f4bad6fa-2c33-41d2-9e50-a97bd7baf270",
        "colab": {}
      },
      "source": [
        "x[1, 2] = 9\n",
        "x"
      ],
      "execution_count": 0,
      "outputs": [
        {
          "output_type": "execute_result",
          "data": {
            "text/plain": [
              "tensor([[ 0,  1,  2,  3],\n",
              "        [ 4,  5,  9,  7],\n",
              "        [ 8,  9, 10, 11]])"
            ]
          },
          "metadata": {
            "tags": []
          },
          "execution_count": 24
        }
      ]
    },
    {
      "cell_type": "markdown",
      "metadata": {
        "id": "9cqYu36BBBf5",
        "colab_type": "text"
      },
      "source": [
        "Если мы хотим присвоить нескольким элементам одно и то же значение, мы просто индексируем все из них (при помощи оператора `:`), а затем присваиваем им значение. Например, `[0:2,:]` обращается к первой и второй строчкам."
      ]
    },
    {
      "cell_type": "code",
      "metadata": {
        "ExecuteTime": {
          "end_time": "2019-11-04T10:14:34.014251Z",
          "start_time": "2019-11-04T10:14:34.009693Z"
        },
        "id": "aQCNsDEqBBf6",
        "colab_type": "code",
        "outputId": "65ac9781-847c-40f8-e394-25fecc6b98ff",
        "colab": {}
      },
      "source": [
        "x[0:2, :] = 12\n",
        "x"
      ],
      "execution_count": 0,
      "outputs": [
        {
          "output_type": "execute_result",
          "data": {
            "text/plain": [
              "tensor([[12, 12, 12, 12],\n",
              "        [12, 12, 12, 12],\n",
              "        [ 8,  9, 10, 11]])"
            ]
          },
          "metadata": {
            "tags": []
          },
          "execution_count": 25
        }
      ]
    },
    {
      "cell_type": "markdown",
      "metadata": {
        "id": "ZwQDA7a-BBf-",
        "colab_type": "text"
      },
      "source": [
        "## В numpy и назад"
      ]
    },
    {
      "cell_type": "code",
      "metadata": {
        "ExecuteTime": {
          "end_time": "2019-11-04T10:14:34.658050Z",
          "start_time": "2019-11-04T10:14:34.653115Z"
        },
        "id": "3ppPNlFEBBf_",
        "colab_type": "code",
        "outputId": "98d4489b-0841-4ed0-ea7e-2ea8b5d7e91b",
        "colab": {}
      },
      "source": [
        "x.numpy()"
      ],
      "execution_count": 0,
      "outputs": [
        {
          "output_type": "execute_result",
          "data": {
            "text/plain": [
              "array([[12, 12, 12, 12],\n",
              "       [12, 12, 12, 12],\n",
              "       [ 8,  9, 10, 11]])"
            ]
          },
          "metadata": {
            "tags": []
          },
          "execution_count": 26
        }
      ]
    },
    {
      "cell_type": "code",
      "metadata": {
        "ExecuteTime": {
          "end_time": "2019-10-15T19:55:23.232506Z",
          "start_time": "2019-10-15T19:55:23.224403Z"
        },
        "id": "hDup9QwLBBgD",
        "colab_type": "code",
        "outputId": "59701895-3d18-452a-f38c-2ce4ed0099a2",
        "colab": {}
      },
      "source": [
        "y = torch.tensor(x.numpy())\n",
        "y"
      ],
      "execution_count": 0,
      "outputs": [
        {
          "output_type": "execute_result",
          "data": {
            "text/plain": [
              "tensor([[12, 12, 12, 12],\n",
              "        [12, 12, 12, 12],\n",
              "        [ 8,  9, 10, 11]])"
            ]
          },
          "metadata": {
            "tags": []
          },
          "execution_count": 55
        }
      ]
    },
    {
      "cell_type": "markdown",
      "metadata": {
        "id": "Ou_dFqqABBgH",
        "colab_type": "text"
      },
      "source": [
        "## Немного практики"
      ]
    },
    {
      "cell_type": "markdown",
      "metadata": {
        "id": "M1tZzj9_BBgJ",
        "colab_type": "text"
      },
      "source": [
        "1. Матрица B называется обратной к матрице A, если A*B = I (где I - единичная матрица). Найдите (перебором) обратную к матрице A = ((1,1), (1,2))\n",
        "2. Примениете оператор преобразования A = ((1,2), (3,4)) к квадрату с вершинами в точка (1,1), (1,-1), (-1, -1), (-1, 1) и найдите расстояния между получившимся вершинами"
      ]
    },
    {
      "cell_type": "code",
      "metadata": {
        "id": "QlwS_lthBBgK",
        "colab_type": "code",
        "outputId": "e86d92dd-3d37-44cf-99b7-b62e25f1d4a1",
        "colab": {
          "base_uri": "https://localhost:8080/",
          "height": 51
        }
      },
      "source": [
        "A = torch.tensor([[1,1], [1,2]])\n",
        "B = torch.tensor([[2, -1],[-1, -1]])\n",
        "A*B"
      ],
      "execution_count": 0,
      "outputs": [
        {
          "output_type": "execute_result",
          "data": {
            "text/plain": [
              "tensor([[ 2, -1],\n",
              "        [-1, -2]])"
            ]
          },
          "metadata": {
            "tags": []
          },
          "execution_count": 28
        }
      ]
    },
    {
      "cell_type": "code",
      "metadata": {
        "id": "KipBM5MhJzQM",
        "colab_type": "code",
        "colab": {}
      },
      "source": [
        "I = torch.ones(2,2)"
      ],
      "execution_count": 0,
      "outputs": []
    },
    {
      "cell_type": "code",
      "metadata": {
        "id": "xNVe1HREJ4LC",
        "colab_type": "code",
        "outputId": "6e526b71-e2e8-4a03-f1b0-19f09bf91c96",
        "colab": {
          "base_uri": "https://localhost:8080/",
          "height": 51
        }
      },
      "source": [
        "A.mm(B)"
      ],
      "execution_count": 0,
      "outputs": [
        {
          "output_type": "execute_result",
          "data": {
            "text/plain": [
              "tensor([[ 1, -2],\n",
              "        [ 0, -3]])"
            ]
          },
          "metadata": {
            "tags": []
          },
          "execution_count": 29
        }
      ]
    },
    {
      "cell_type": "markdown",
      "metadata": {
        "id": "RBbsJVbqBBgO",
        "colab_type": "text"
      },
      "source": [
        "## Вероятности"
      ]
    },
    {
      "cell_type": "code",
      "metadata": {
        "ExecuteTime": {
          "end_time": "2019-11-04T10:35:40.072759Z",
          "start_time": "2019-11-04T10:35:40.067263Z"
        },
        "id": "sSB5-kEgBBgP",
        "colab_type": "code",
        "colab": {}
      },
      "source": [
        "# Равномерное распределение вероятности"
      ],
      "execution_count": 0,
      "outputs": []
    },
    {
      "cell_type": "code",
      "metadata": {
        "ExecuteTime": {
          "end_time": "2019-11-04T10:35:53.933752Z",
          "start_time": "2019-11-04T10:35:53.928481Z"
        },
        "id": "uTkezVgiBBgT",
        "colab_type": "code",
        "outputId": "b6448b69-197d-47b5-e720-1d3c466ebbbb",
        "colab": {}
      },
      "source": [
        "torch.rand(10)"
      ],
      "execution_count": 0,
      "outputs": [
        {
          "output_type": "execute_result",
          "data": {
            "text/plain": [
              "tensor([0.1405, 0.2415, 0.2279, 0.4971, 0.1087, 0.8297, 0.9158, 0.8842, 0.0378,\n",
              "        0.2914])"
            ]
          },
          "metadata": {
            "tags": []
          },
          "execution_count": 34
        }
      ]
    },
    {
      "cell_type": "code",
      "metadata": {
        "ExecuteTime": {
          "end_time": "2019-11-04T10:36:02.270795Z",
          "start_time": "2019-11-04T10:36:02.268400Z"
        },
        "id": "jsRk3ZhBBBgX",
        "colab_type": "code",
        "colab": {}
      },
      "source": [
        "## Нормальное распределение"
      ],
      "execution_count": 0,
      "outputs": []
    },
    {
      "cell_type": "code",
      "metadata": {
        "ExecuteTime": {
          "end_time": "2019-11-04T10:36:10.044224Z",
          "start_time": "2019-11-04T10:36:10.032788Z"
        },
        "id": "sJA0KvJmBBgb",
        "colab_type": "code",
        "outputId": "46dc24ce-d110-4260-9043-4f6825c95078",
        "colab": {}
      },
      "source": [
        "torch.randn(10)"
      ],
      "execution_count": 0,
      "outputs": [
        {
          "output_type": "execute_result",
          "data": {
            "text/plain": [
              "tensor([-1.6518,  0.0930, -0.5957,  0.4115, -0.5774,  0.0330, -0.4367, -0.0175,\n",
              "        -0.5799,  1.5501])"
            ]
          },
          "metadata": {
            "tags": []
          },
          "execution_count": 36
        }
      ]
    },
    {
      "cell_type": "code",
      "metadata": {
        "ExecuteTime": {
          "end_time": "2019-11-04T10:36:29.458108Z",
          "start_time": "2019-11-04T10:36:29.455040Z"
        },
        "id": "g-zvKAdWBBgg",
        "colab_type": "code",
        "colab": {}
      },
      "source": [
        "## Равномерное на целых числах"
      ],
      "execution_count": 0,
      "outputs": []
    },
    {
      "cell_type": "code",
      "metadata": {
        "ExecuteTime": {
          "end_time": "2019-11-04T10:36:55.575964Z",
          "start_time": "2019-11-04T10:36:55.564475Z"
        },
        "id": "HlRCXZXJBBgk",
        "colab_type": "code",
        "outputId": "66348182-b85d-4406-ff68-beaf9259c6a5",
        "colab": {}
      },
      "source": [
        "torch.randint(0, 10, (10,))"
      ],
      "execution_count": 0,
      "outputs": [
        {
          "output_type": "execute_result",
          "data": {
            "text/plain": [
              "tensor([1, 1, 3, 7, 0, 7, 0, 1, 7, 5])"
            ]
          },
          "metadata": {
            "tags": []
          },
          "execution_count": 41
        }
      ]
    },
    {
      "cell_type": "markdown",
      "metadata": {
        "id": "4FMny9vYBBgo",
        "colab_type": "text"
      },
      "source": [
        "## Постройте график плотности для нормального распределения"
      ]
    },
    {
      "cell_type": "code",
      "metadata": {
        "id": "OdA5v-fbBBgp",
        "colab_type": "code",
        "colab": {}
      },
      "source": [
        ""
      ],
      "execution_count": 0,
      "outputs": []
    },
    {
      "cell_type": "markdown",
      "metadata": {
        "id": "GpQIbxTYBBgv",
        "colab_type": "text"
      },
      "source": [
        "## Теорема Баеса"
      ]
    },
    {
      "cell_type": "code",
      "metadata": {
        "ExecuteTime": {
          "end_time": "2019-11-04T10:38:01.240059Z",
          "start_time": "2019-11-04T10:38:01.054722Z"
        },
        "id": "fXQATgiwBBgw",
        "colab_type": "code",
        "colab": {}
      },
      "source": [
        "import torchvision"
      ],
      "execution_count": 0,
      "outputs": []
    },
    {
      "cell_type": "code",
      "metadata": {
        "ExecuteTime": {
          "end_time": "2019-11-04T10:44:14.593070Z",
          "start_time": "2019-11-04T10:44:14.589491Z"
        },
        "id": "B3B6qYwYBBg5",
        "colab_type": "code",
        "colab": {}
      },
      "source": [
        "def transform(data):\n",
        "    data = torch.tensor(data.getdata(), dtype=torch.float32)\n",
        "    return torch.floor(data / 128.).squeeze(axis=-1)"
      ],
      "execution_count": 0,
      "outputs": []
    },
    {
      "cell_type": "code",
      "metadata": {
        "ExecuteTime": {
          "end_time": "2019-11-04T10:44:15.031006Z",
          "start_time": "2019-11-04T10:44:14.978507Z"
        },
        "id": "JQGDvt9fBBhA",
        "colab_type": "code",
        "outputId": "c1a99743-5fa1-427d-f69f-7071130352c6",
        "colab": {
          "base_uri": "https://localhost:8080/",
          "height": 293
        }
      },
      "source": [
        "mnist_train = torchvision.datasets.MNIST('.', train=True, transform=transform, download=True)\n",
        "mnist_test  = torchvision.datasets.MNIST('.', train=False, transform=transform, download=True)"
      ],
      "execution_count": 5,
      "outputs": [
        {
          "output_type": "stream",
          "text": [
            "\r0it [00:00, ?it/s]"
          ],
          "name": "stderr"
        },
        {
          "output_type": "stream",
          "text": [
            "Downloading http://yann.lecun.com/exdb/mnist/train-images-idx3-ubyte.gz to ./MNIST/raw/train-images-idx3-ubyte.gz\n"
          ],
          "name": "stdout"
        },
        {
          "output_type": "stream",
          "text": [
            "9920512it [00:01, 8951390.41it/s]                            \n"
          ],
          "name": "stderr"
        },
        {
          "output_type": "stream",
          "text": [
            "Extracting ./MNIST/raw/train-images-idx3-ubyte.gz to ./MNIST/raw\n"
          ],
          "name": "stdout"
        },
        {
          "output_type": "stream",
          "text": [
            "  0%|          | 0/28881 [00:00<?, ?it/s]"
          ],
          "name": "stderr"
        },
        {
          "output_type": "stream",
          "text": [
            "Downloading http://yann.lecun.com/exdb/mnist/train-labels-idx1-ubyte.gz to ./MNIST/raw/train-labels-idx1-ubyte.gz\n"
          ],
          "name": "stdout"
        },
        {
          "output_type": "stream",
          "text": [
            "32768it [00:00, 141077.19it/s]           \n",
            "  0%|          | 0/1648877 [00:00<?, ?it/s]"
          ],
          "name": "stderr"
        },
        {
          "output_type": "stream",
          "text": [
            "Extracting ./MNIST/raw/train-labels-idx1-ubyte.gz to ./MNIST/raw\n",
            "Downloading http://yann.lecun.com/exdb/mnist/t10k-images-idx3-ubyte.gz to ./MNIST/raw/t10k-images-idx3-ubyte.gz\n"
          ],
          "name": "stdout"
        },
        {
          "output_type": "stream",
          "text": [
            "1654784it [00:00, 2319164.23it/s]                            \n",
            "0it [00:00, ?it/s]"
          ],
          "name": "stderr"
        },
        {
          "output_type": "stream",
          "text": [
            "Extracting ./MNIST/raw/t10k-images-idx3-ubyte.gz to ./MNIST/raw\n",
            "Downloading http://yann.lecun.com/exdb/mnist/t10k-labels-idx1-ubyte.gz to ./MNIST/raw/t10k-labels-idx1-ubyte.gz\n"
          ],
          "name": "stdout"
        },
        {
          "output_type": "stream",
          "text": [
            "8192it [00:00, 53227.09it/s]            \n"
          ],
          "name": "stderr"
        },
        {
          "output_type": "stream",
          "text": [
            "Extracting ./MNIST/raw/t10k-labels-idx1-ubyte.gz to ./MNIST/raw\n",
            "Processing...\n",
            "Done!\n"
          ],
          "name": "stdout"
        }
      ]
    },
    {
      "cell_type": "code",
      "metadata": {
        "ExecuteTime": {
          "end_time": "2019-11-04T10:45:12.869451Z",
          "start_time": "2019-11-04T10:45:12.861240Z"
        },
        "id": "ESemDQ55BBhF",
        "colab_type": "code",
        "outputId": "2a1a5cae-f830-4001-b8f5-9b859e0995b9",
        "colab": {
          "base_uri": "https://localhost:8080/",
          "height": 165
        }
      },
      "source": [
        "mnist_train[0]"
      ],
      "execution_count": 0,
      "outputs": [
        {
          "output_type": "error",
          "ename": "AttributeError",
          "evalue": "ignored",
          "traceback": [
            "\u001b[0;31m---------------------------------------------------------------------------\u001b[0m",
            "\u001b[0;31mAttributeError\u001b[0m                            Traceback (most recent call last)",
            "\u001b[0;32m<ipython-input-19-66ed62e20bdc>\u001b[0m in \u001b[0;36m<module>\u001b[0;34m()\u001b[0m\n\u001b[0;32m----> 1\u001b[0;31m \u001b[0mmnist_train\u001b[0m\u001b[0;34m.\u001b[0m\u001b[0msize\u001b[0m\u001b[0;34m(\u001b[0m\u001b[0;34m)\u001b[0m\u001b[0;34m\u001b[0m\u001b[0;34m\u001b[0m\u001b[0m\n\u001b[0m",
            "\u001b[0;31mAttributeError\u001b[0m: 'MNIST' object has no attribute 'size'"
          ]
        }
      ]
    },
    {
      "cell_type": "code",
      "metadata": {
        "ExecuteTime": {
          "end_time": "2019-11-04T10:44:58.840112Z",
          "start_time": "2019-11-04T10:44:58.835224Z"
        },
        "id": "nuMOLOLeBBhJ",
        "colab_type": "code",
        "outputId": "858c7e70-0f05-47c4-aca1-a3685c2c0473",
        "colab": {
          "base_uri": "https://localhost:8080/",
          "height": 34
        }
      },
      "source": [
        "len(mnist_test)"
      ],
      "execution_count": 0,
      "outputs": [
        {
          "output_type": "execute_result",
          "data": {
            "text/plain": [
              "10000"
            ]
          },
          "metadata": {
            "tags": []
          },
          "execution_count": 24
        }
      ]
    },
    {
      "cell_type": "code",
      "metadata": {
        "ExecuteTime": {
          "end_time": "2019-11-04T10:45:58.919510Z",
          "start_time": "2019-11-04T10:45:58.425460Z"
        },
        "id": "Znuig0TGBBhR",
        "colab_type": "code",
        "colab": {}
      },
      "source": [
        "import matplotlib.pyplot as plt\n",
        "%matplotlib inline"
      ],
      "execution_count": 0,
      "outputs": []
    },
    {
      "cell_type": "code",
      "metadata": {
        "ExecuteTime": {
          "end_time": "2019-11-04T10:46:54.051375Z",
          "start_time": "2019-11-04T10:46:54.041789Z"
        },
        "id": "2Zo0edEHBBhU",
        "colab_type": "code",
        "colab": {}
      },
      "source": [
        "mnist_train[0][0]"
      ],
      "execution_count": 0,
      "outputs": []
    },
    {
      "cell_type": "code",
      "metadata": {
        "ExecuteTime": {
          "end_time": "2019-11-04T10:47:04.823458Z",
          "start_time": "2019-11-04T10:47:04.662416Z"
        },
        "id": "VtDJPh94BBhY",
        "colab_type": "code",
        "outputId": "9515b2bd-ca54-4e87-d79d-6f59fb0d5d2a",
        "colab": {
          "base_uri": "https://localhost:8080/",
          "height": 282
        }
      },
      "source": [
        "plt.imshow(mnist_train[0][0].reshape(28, 28), cmap='gray', vmin=0, vmax=1)"
      ],
      "execution_count": 0,
      "outputs": [
        {
          "output_type": "execute_result",
          "data": {
            "text/plain": [
              "<matplotlib.image.AxesImage at 0x7fab0832bf60>"
            ]
          },
          "metadata": {
            "tags": []
          },
          "execution_count": 8
        },
        {
          "output_type": "display_data",
          "data": {
            "image/png": "[encoded data removed]",
            "text/plain": [
              "<Figure size 432x288 with 1 Axes>"
            ]
          },
          "metadata": {
            "tags": []
          }
        }
      ]
    },
    {
      "cell_type": "markdown",
      "metadata": {
        "id": "UkD8aLd7BBhd",
        "colab_type": "text"
      },
      "source": [
        "## Практика - реализуйте сами (без использования SKLEARN) наивный баесовский классификатор для этой задачи"
      ]
    },
    {
      "cell_type": "markdown",
      "metadata": {
        "id": "nQh1tS6o-uty",
        "colab_type": "text"
      },
      "source": [
        "**Для удобства извлекаем данные**"
      ]
    },
    {
      "cell_type": "code",
      "metadata": {
        "id": "ycozoIGBzpjC",
        "colab_type": "code",
        "colab": {}
      },
      "source": [
        "def extract_data(X, y, data):\n",
        "  for (a, b), n in zip(data, range(len(data))):\n",
        "    X[n] = a\n",
        "    y[n] = b"
      ],
      "execution_count": 0,
      "outputs": []
    },
    {
      "cell_type": "code",
      "metadata": {
        "id": "P_Zdpo6msDyN",
        "colab_type": "code",
        "colab": {}
      },
      "source": [
        "X_train = torch.zeros([60000, 784])\n",
        "X_test = torch.zeros([10000, 784])\n",
        "y_train = np.zeros(60000)\n",
        "y_test = np.zeros(10000)\n",
        "\n",
        "extract_data(X_train, y_train, mnist_train)\n",
        "extract_data(X_test, y_test, mnist_test)\n"
      ],
      "execution_count": 0,
      "outputs": []
    },
    {
      "cell_type": "markdown",
      "metadata": {
        "id": "Sc7wtPWM-3jY",
        "colab_type": "text"
      },
      "source": [
        "**Фильтруем по 1 и 2**"
      ]
    },
    {
      "cell_type": "code",
      "metadata": {
        "id": "GQhwcfDNtUY-",
        "colab_type": "code",
        "colab": {}
      },
      "source": [
        "mask_train = np.isin(y_train, [1,2])\n",
        "mask_test = np.isin(y_test, [1,2])\n",
        "\n",
        "X_train_12 = X_train[mask_train]\n",
        "X_test_12 = X_test[mask_test]\n",
        "\n",
        "y_train_12 = y_train[mask_train]\n",
        "y_test_12 = y_test[mask_test]"
      ],
      "execution_count": 0,
      "outputs": []
    },
    {
      "cell_type": "markdown",
      "metadata": {
        "id": "f5IKJozZ_DJT",
        "colab_type": "text"
      },
      "source": [
        "**Подготовка данных**"
      ]
    },
    {
      "cell_type": "code",
      "metadata": {
        "id": "wKLZcd9h7QNM",
        "colab_type": "code",
        "colab": {}
      },
      "source": [
        "count_all = y_train_12.shape[0]\n",
        "\n",
        "count_1 = y_train_12[np.isin(y_train_12, 1)].shape[0]\n",
        "count_2 = count_all - count_1\n",
        "\n",
        "#prior probability\n",
        "freq1 = count_1/count_all\n",
        "freq2 = 1 - freq1"
      ],
      "execution_count": 0,
      "outputs": []
    },
    {
      "cell_type": "code",
      "metadata": {
        "id": "aEVk7xdOCCY1",
        "colab_type": "code",
        "colab": {}
      },
      "source": [
        "sum_all_X = X_train_12.sum(axis=0)\n",
        "sum_1_X = X_train_12[np.isin(y_train_12, 1)].sum(axis=0)\n",
        "sum_2_X = sum_all_X - sum_1_X"
      ],
      "execution_count": 0,
      "outputs": []
    },
    {
      "cell_type": "code",
      "metadata": {
        "id": "ZikTO6FvClzU",
        "colab_type": "code",
        "colab": {}
      },
      "source": [
        "prob1 = (sum_1_X)/count_1\n",
        "prob2 = (sum_2_X)/count_2"
      ],
      "execution_count": 0,
      "outputs": []
    },
    {
      "cell_type": "markdown",
      "metadata": {
        "id": "586atdlK_Ktb",
        "colab_type": "text"
      },
      "source": [
        "**Предсказание на обучающей выборке**"
      ]
    },
    {
      "cell_type": "code",
      "metadata": {
        "id": "QRwfTxRw82CM",
        "colab_type": "code",
        "colab": {
          "base_uri": "https://localhost:8080/",
          "height": 34
        },
        "outputId": "934796f2-e1b1-47d2-9a3f-8416dd714f32"
      },
      "source": [
        "predict_train = []\n",
        "for n in range(len(X_train_12)):\n",
        "  p1 = np.log(freq1) + np.log(np.exp(np.absolute(np.log(prob1*X_train_12[n]+1)-np.log(freq1))).sum())\n",
        "  p2 = np.log(freq2) + np.log(np.exp(np.absolute(np.log(prob2*X_train_12[n]+1)-np.log(freq2))).sum())\n",
        "  if p1 > p2: predict_train.append(1)\n",
        "  else: predict_train.append(2)\n",
        "\n",
        "np.unique(predict_train == y_train_12, return_counts=True)[1][1]/len(y_train_12)"
      ],
      "execution_count": 127,
      "outputs": [
        {
          "output_type": "execute_result",
          "data": {
            "text/plain": [
              "0.8781102362204725"
            ]
          },
          "metadata": {
            "tags": []
          },
          "execution_count": 127
        }
      ]
    },
    {
      "cell_type": "markdown",
      "metadata": {
        "id": "7tqEOuAX_WX6",
        "colab_type": "text"
      },
      "source": [
        "**Предсказание на тестовой выборке**"
      ]
    },
    {
      "cell_type": "code",
      "metadata": {
        "id": "0YoSaO7bZ8l5",
        "colab_type": "code",
        "outputId": "fad0a528-67cb-4dd1-bdbe-3e66e6bb7e24",
        "colab": {
          "base_uri": "https://localhost:8080/",
          "height": 34
        }
      },
      "source": [
        "predict_test = []\n",
        "for n in range(len(X_test_12)):\n",
        "  p1 = np.log(freq1) + np.log(np.exp(np.absolute(np.log(prob1*X_test_12[n]+1)-np.log(freq1))).sum())\n",
        "  p2 = np.log(freq2) + np.log(np.exp(np.absolute(np.log(prob2*X_test_12[n]+1)-np.log(freq2))).sum())\n",
        "  if p1 > p2: predict_test.append(1)\n",
        "  else: predict_test.append(2)\n",
        "\n",
        "np.unique(predict_test == y_test_12, return_counts=True)[1][1]/len(y_test_12)"
      ],
      "execution_count": 128,
      "outputs": [
        {
          "output_type": "execute_result",
          "data": {
            "text/plain": [
              "0.8827872634979234"
            ]
          },
          "metadata": {
            "tags": []
          },
          "execution_count": 128
        }
      ]
    },
    {
      "cell_type": "code",
      "metadata": {
        "id": "iMw7Kh1ez0EQ",
        "colab_type": "code",
        "colab": {
          "base_uri": "https://localhost:8080/",
          "height": 51
        },
        "outputId": "949d8d9d-0a56-4e3c-db25-2921c0faa55b"
      },
      "source": [
        "from sklearn.metrics import confusion_matrix\n",
        "\n",
        "confusion_matrix(y_train_12, predict_train)"
      ],
      "execution_count": 129,
      "outputs": [
        {
          "output_type": "execute_result",
          "data": {
            "text/plain": [
              "array([[5208, 1534],\n",
              "       [  14, 5944]])"
            ]
          },
          "metadata": {
            "tags": []
          },
          "execution_count": 129
        }
      ]
    },
    {
      "cell_type": "code",
      "metadata": {
        "id": "VEkdKWnx9ZRL",
        "colab_type": "code",
        "colab": {}
      },
      "source": [
        ""
      ],
      "execution_count": 0,
      "outputs": []
    }
  ]
}