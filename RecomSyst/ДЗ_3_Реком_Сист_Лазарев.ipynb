{
  "nbformat": 4,
  "nbformat_minor": 0,
  "metadata": {
    "colab": {
      "name": "ДЗ 3 Реком.Сист. Лазарев.ipynb",
      "provenance": [],
      "authorship_tag": "ABX9TyOVIpFu6c8083s5wXLFEVmY",
      "include_colab_link": true
    },
    "kernelspec": {
      "name": "python3",
      "display_name": "Python 3"
    }
  },
  "cells": [
    {
      "cell_type": "markdown",
      "metadata": {
        "id": "view-in-github",
        "colab_type": "text"
      },
      "source": [
        "<a href=\"https://colab.research.google.com/github/Laexey/DataScianceLearn/blob/master/RecomSyst/%D0%94%D0%97_3_%D0%A0%D0%B5%D0%BA%D0%BE%D0%BC_%D0%A1%D0%B8%D1%81%D1%82_%D0%9B%D0%B0%D0%B7%D0%B0%D1%80%D0%B5%D0%B2.ipynb\" target=\"_parent\"><img src=\"https://colab.research.google.com/assets/colab-badge.svg\" alt=\"Open In Colab\"/></a>"
      ]
    },
    {
      "cell_type": "code",
      "metadata": {
        "id": "qQJfyuM7y09_",
        "colab_type": "code",
        "outputId": "5ab51849-b709-43c2-c3cb-ac2d00c60abe",
        "colab": {
          "base_uri": "https://localhost:8080/",
          "height": 314
        }
      },
      "source": [
        "!pip install surprise"
      ],
      "execution_count": 3,
      "outputs": [
        {
          "output_type": "stream",
          "text": [
            "Collecting surprise\n",
            "  Downloading https://files.pythonhosted.org/packages/61/de/e5cba8682201fcf9c3719a6fdda95693468ed061945493dea2dd37c5618b/surprise-0.1-py2.py3-none-any.whl\n",
            "Collecting scikit-surprise\n",
            "\u001b[?25l  Downloading https://files.pythonhosted.org/packages/f5/da/b5700d96495fb4f092be497f02492768a3d96a3f4fa2ae7dea46d4081cfa/scikit-surprise-1.1.0.tar.gz (6.4MB)\n",
            "\u001b[K     |████████████████████████████████| 6.5MB 2.5MB/s \n",
            "\u001b[?25hRequirement already satisfied: joblib>=0.11 in /usr/local/lib/python3.6/dist-packages (from scikit-surprise->surprise) (0.14.1)\n",
            "Requirement already satisfied: numpy>=1.11.2 in /usr/local/lib/python3.6/dist-packages (from scikit-surprise->surprise) (1.17.5)\n",
            "Requirement already satisfied: scipy>=1.0.0 in /usr/local/lib/python3.6/dist-packages (from scikit-surprise->surprise) (1.4.1)\n",
            "Requirement already satisfied: six>=1.10.0 in /usr/local/lib/python3.6/dist-packages (from scikit-surprise->surprise) (1.12.0)\n",
            "Building wheels for collected packages: scikit-surprise\n",
            "  Building wheel for scikit-surprise (setup.py) ... \u001b[?25l\u001b[?25hdone\n",
            "  Created wheel for scikit-surprise: filename=scikit_surprise-1.1.0-cp36-cp36m-linux_x86_64.whl size=1678220 sha256=422ed813b62aa58988f7fe3263ff7c11e0ce5f9ca613302fd1fddf5c74088d78\n",
            "  Stored in directory: /root/.cache/pip/wheels/cc/fa/8c/16c93fccce688ae1bde7d979ff102f7bee980d9cfeb8641bcf\n",
            "Successfully built scikit-surprise\n",
            "Installing collected packages: scikit-surprise, surprise\n",
            "Successfully installed scikit-surprise-1.1.0 surprise-0.1\n"
          ],
          "name": "stdout"
        }
      ]
    },
    {
      "cell_type": "code",
      "metadata": {
        "id": "tCmSRO5nyl03",
        "colab_type": "code",
        "colab": {}
      },
      "source": [
        "from surprise import Dataset\n",
        "from surprise import SVD\n",
        "from surprise.model_selection import cross_validate"
      ],
      "execution_count": 0,
      "outputs": []
    },
    {
      "cell_type": "code",
      "metadata": {
        "id": "wabrq6IOy_Fx",
        "colab_type": "code",
        "outputId": "3eb6f1a1-8c9c-4836-b58a-bf83150e6fa7",
        "colab": {
          "base_uri": "https://localhost:8080/",
          "height": 69
        }
      },
      "source": [
        "data = Dataset.load_builtin('ml-1m')"
      ],
      "execution_count": 45,
      "outputs": [
        {
          "output_type": "stream",
          "text": [
            "Dataset ml-1m could not be found. Do you want to download it? [Y/n] Y\n",
            "Trying to download dataset from http://files.grouplens.org/datasets/movielens/ml-1m.zip...\n",
            "Done! Dataset ml-1m has been saved to /root/.surprise_data/ml-1m\n"
          ],
          "name": "stdout"
        }
      ]
    },
    {
      "cell_type": "code",
      "metadata": {
        "id": "gu0Vjh5Eznt4",
        "colab_type": "code",
        "colab": {}
      },
      "source": [
        "algo = SVD(n_epochs=20)"
      ],
      "execution_count": 0,
      "outputs": []
    },
    {
      "cell_type": "code",
      "metadata": {
        "id": "XYcazkAT0EqR",
        "colab_type": "code",
        "colab": {}
      },
      "source": [
        "result = cross_validate(algo, data, measures=['rmse', 'mae'], cv=5)"
      ],
      "execution_count": 0,
      "outputs": []
    },
    {
      "cell_type": "code",
      "metadata": {
        "id": "wxxheYbt0Wfu",
        "colab_type": "code",
        "outputId": "4c963c52-d958-441f-d5b4-37684178a0ba",
        "colab": {
          "base_uri": "https://localhost:8080/",
          "height": 86
        }
      },
      "source": [
        "for item in result:\n",
        "  print(item+'{}'.format(result.get(item)))"
      ],
      "execution_count": 53,
      "outputs": [
        {
          "output_type": "stream",
          "text": [
            "test_rmse[0.87439354 0.87146396 0.87695249 0.87379745 0.87279801]\n",
            "test_mae[0.68676351 0.6841878  0.68781297 0.68547084 0.68526485]\n",
            "fit_time(51.155816078186035, 51.840843200683594, 51.57966113090515, 52.39614152908325, 51.69488525390625)\n",
            "test_time(2.5038280487060547, 2.2205214500427246, 2.412642478942871, 2.6840617656707764, 2.480292797088623)\n"
          ],
          "name": "stdout"
        }
      ]
    },
    {
      "cell_type": "markdown",
      "metadata": {
        "id": "SJtvjU1l-odQ",
        "colab_type": "text"
      },
      "source": [
        "**Получил результат такой же, как в Banchmark на сайте Surprise, действуя по инструкции**"
      ]
    },
    {
      "cell_type": "code",
      "metadata": {
        "id": "DRExDz99_BKa",
        "colab_type": "code",
        "colab": {
          "base_uri": "https://localhost:8080/",
          "height": 35
        },
        "outputId": "b0fe8bd1-3500-4e06-ced0-c6447fc7569a"
      },
      "source": [
        "algo.predict(1,1)"
      ],
      "execution_count": 54,
      "outputs": [
        {
          "output_type": "execute_result",
          "data": {
            "text/plain": [
              "Prediction(uid=1, iid=1, r_ui=None, est=3.5823652033073055, details={'was_impossible': False})"
            ]
          },
          "metadata": {
            "tags": []
          },
          "execution_count": 54
        }
      ]
    },
    {
      "cell_type": "code",
      "metadata": {
        "id": "AihgyB7SD1c9",
        "colab_type": "code",
        "colab": {
          "base_uri": "https://localhost:8080/",
          "height": 35
        },
        "outputId": "b0a9ab04-6ca7-496e-80cb-dd8fcc66edcb"
      },
      "source": [
        "algo.trainset.to_raw_iid(1)"
      ],
      "execution_count": 55,
      "outputs": [
        {
          "output_type": "execute_result",
          "data": {
            "text/plain": [
              "'590'"
            ]
          },
          "metadata": {
            "tags": []
          },
          "execution_count": 55
        }
      ]
    },
    {
      "cell_type": "code",
      "metadata": {
        "id": "YY5npZ2iEKxk",
        "colab_type": "code",
        "colab": {}
      },
      "source": [
        ""
      ],
      "execution_count": 0,
      "outputs": []
    }
  ]
}