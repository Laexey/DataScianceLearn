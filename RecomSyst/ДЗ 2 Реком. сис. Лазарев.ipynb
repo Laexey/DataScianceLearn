{
 "cells": [
  {
   "cell_type": "code",
   "execution_count": 1,
   "metadata": {},
   "outputs": [],
   "source": [
    "import pandas as pd\n",
    "from sklearn.feature_extraction.text import CountVectorizer, TfidfTransformer, TfidfVectorizer\n",
    "import numpy as np\n",
    "import matplotlib.pyplot as plt\n",
    "from datetime import datetime\n",
    "\n",
    "%matplotlib inline"
   ]
  },
  {
   "cell_type": "code",
   "execution_count": 2,
   "metadata": {},
   "outputs": [],
   "source": [
    "links = pd.read_csv('ml-latest-small/links.csv')\n",
    "movies = pd.read_csv('ml-latest-small/movies.csv')\n",
    "ratings = pd.read_csv('ml-latest-small/ratings.csv')\n",
    "tags = pd.read_csv('ml-latest-small/tags.csv')"
   ]
  },
  {
   "cell_type": "code",
   "execution_count": 3,
   "metadata": {},
   "outputs": [
    {
     "data": {
      "text/html": [
       "<div>\n",
       "<style scoped>\n",
       "    .dataframe tbody tr th:only-of-type {\n",
       "        vertical-align: middle;\n",
       "    }\n",
       "\n",
       "    .dataframe tbody tr th {\n",
       "        vertical-align: top;\n",
       "    }\n",
       "\n",
       "    .dataframe thead th {\n",
       "        text-align: right;\n",
       "    }\n",
       "</style>\n",
       "<table border=\"1\" class=\"dataframe\">\n",
       "  <thead>\n",
       "    <tr style=\"text-align: right;\">\n",
       "      <th></th>\n",
       "      <th>movieId</th>\n",
       "      <th>imdbId</th>\n",
       "      <th>tmdbId</th>\n",
       "    </tr>\n",
       "  </thead>\n",
       "  <tbody>\n",
       "    <tr>\n",
       "      <th>0</th>\n",
       "      <td>1</td>\n",
       "      <td>114709</td>\n",
       "      <td>862.0</td>\n",
       "    </tr>\n",
       "    <tr>\n",
       "      <th>1</th>\n",
       "      <td>2</td>\n",
       "      <td>113497</td>\n",
       "      <td>8844.0</td>\n",
       "    </tr>\n",
       "    <tr>\n",
       "      <th>2</th>\n",
       "      <td>3</td>\n",
       "      <td>113228</td>\n",
       "      <td>15602.0</td>\n",
       "    </tr>\n",
       "    <tr>\n",
       "      <th>3</th>\n",
       "      <td>4</td>\n",
       "      <td>114885</td>\n",
       "      <td>31357.0</td>\n",
       "    </tr>\n",
       "    <tr>\n",
       "      <th>4</th>\n",
       "      <td>5</td>\n",
       "      <td>113041</td>\n",
       "      <td>11862.0</td>\n",
       "    </tr>\n",
       "  </tbody>\n",
       "</table>\n",
       "</div>"
      ],
      "text/plain": [
       "   movieId  imdbId   tmdbId\n",
       "0        1  114709    862.0\n",
       "1        2  113497   8844.0\n",
       "2        3  113228  15602.0\n",
       "3        4  114885  31357.0\n",
       "4        5  113041  11862.0"
      ]
     },
     "execution_count": 3,
     "metadata": {},
     "output_type": "execute_result"
    }
   ],
   "source": [
    "links.head()"
   ]
  },
  {
   "cell_type": "code",
   "execution_count": 4,
   "metadata": {},
   "outputs": [
    {
     "data": {
      "text/html": [
       "<div>\n",
       "<style scoped>\n",
       "    .dataframe tbody tr th:only-of-type {\n",
       "        vertical-align: middle;\n",
       "    }\n",
       "\n",
       "    .dataframe tbody tr th {\n",
       "        vertical-align: top;\n",
       "    }\n",
       "\n",
       "    .dataframe thead th {\n",
       "        text-align: right;\n",
       "    }\n",
       "</style>\n",
       "<table border=\"1\" class=\"dataframe\">\n",
       "  <thead>\n",
       "    <tr style=\"text-align: right;\">\n",
       "      <th></th>\n",
       "      <th>movieId</th>\n",
       "      <th>title</th>\n",
       "      <th>genres</th>\n",
       "    </tr>\n",
       "  </thead>\n",
       "  <tbody>\n",
       "    <tr>\n",
       "      <th>0</th>\n",
       "      <td>1</td>\n",
       "      <td>Toy Story (1995)</td>\n",
       "      <td>Adventure|Animation|Children|Comedy|Fantasy</td>\n",
       "    </tr>\n",
       "    <tr>\n",
       "      <th>1</th>\n",
       "      <td>2</td>\n",
       "      <td>Jumanji (1995)</td>\n",
       "      <td>Adventure|Children|Fantasy</td>\n",
       "    </tr>\n",
       "    <tr>\n",
       "      <th>2</th>\n",
       "      <td>3</td>\n",
       "      <td>Grumpier Old Men (1995)</td>\n",
       "      <td>Comedy|Romance</td>\n",
       "    </tr>\n",
       "    <tr>\n",
       "      <th>3</th>\n",
       "      <td>4</td>\n",
       "      <td>Waiting to Exhale (1995)</td>\n",
       "      <td>Comedy|Drama|Romance</td>\n",
       "    </tr>\n",
       "    <tr>\n",
       "      <th>4</th>\n",
       "      <td>5</td>\n",
       "      <td>Father of the Bride Part II (1995)</td>\n",
       "      <td>Comedy</td>\n",
       "    </tr>\n",
       "  </tbody>\n",
       "</table>\n",
       "</div>"
      ],
      "text/plain": [
       "   movieId                               title  \\\n",
       "0        1                    Toy Story (1995)   \n",
       "1        2                      Jumanji (1995)   \n",
       "2        3             Grumpier Old Men (1995)   \n",
       "3        4            Waiting to Exhale (1995)   \n",
       "4        5  Father of the Bride Part II (1995)   \n",
       "\n",
       "                                        genres  \n",
       "0  Adventure|Animation|Children|Comedy|Fantasy  \n",
       "1                   Adventure|Children|Fantasy  \n",
       "2                               Comedy|Romance  \n",
       "3                         Comedy|Drama|Romance  \n",
       "4                                       Comedy  "
      ]
     },
     "execution_count": 4,
     "metadata": {},
     "output_type": "execute_result"
    }
   ],
   "source": [
    "movies.head()"
   ]
  },
  {
   "cell_type": "code",
   "execution_count": 5,
   "metadata": {},
   "outputs": [
    {
     "data": {
      "text/html": [
       "<div>\n",
       "<style scoped>\n",
       "    .dataframe tbody tr th:only-of-type {\n",
       "        vertical-align: middle;\n",
       "    }\n",
       "\n",
       "    .dataframe tbody tr th {\n",
       "        vertical-align: top;\n",
       "    }\n",
       "\n",
       "    .dataframe thead th {\n",
       "        text-align: right;\n",
       "    }\n",
       "</style>\n",
       "<table border=\"1\" class=\"dataframe\">\n",
       "  <thead>\n",
       "    <tr style=\"text-align: right;\">\n",
       "      <th></th>\n",
       "      <th>userId</th>\n",
       "      <th>movieId</th>\n",
       "      <th>rating</th>\n",
       "      <th>timestamp</th>\n",
       "    </tr>\n",
       "  </thead>\n",
       "  <tbody>\n",
       "    <tr>\n",
       "      <th>0</th>\n",
       "      <td>1</td>\n",
       "      <td>1</td>\n",
       "      <td>4.0</td>\n",
       "      <td>964982703</td>\n",
       "    </tr>\n",
       "    <tr>\n",
       "      <th>1</th>\n",
       "      <td>1</td>\n",
       "      <td>3</td>\n",
       "      <td>4.0</td>\n",
       "      <td>964981247</td>\n",
       "    </tr>\n",
       "    <tr>\n",
       "      <th>2</th>\n",
       "      <td>1</td>\n",
       "      <td>6</td>\n",
       "      <td>4.0</td>\n",
       "      <td>964982224</td>\n",
       "    </tr>\n",
       "    <tr>\n",
       "      <th>3</th>\n",
       "      <td>1</td>\n",
       "      <td>47</td>\n",
       "      <td>5.0</td>\n",
       "      <td>964983815</td>\n",
       "    </tr>\n",
       "    <tr>\n",
       "      <th>4</th>\n",
       "      <td>1</td>\n",
       "      <td>50</td>\n",
       "      <td>5.0</td>\n",
       "      <td>964982931</td>\n",
       "    </tr>\n",
       "  </tbody>\n",
       "</table>\n",
       "</div>"
      ],
      "text/plain": [
       "   userId  movieId  rating  timestamp\n",
       "0       1        1     4.0  964982703\n",
       "1       1        3     4.0  964981247\n",
       "2       1        6     4.0  964982224\n",
       "3       1       47     5.0  964983815\n",
       "4       1       50     5.0  964982931"
      ]
     },
     "execution_count": 5,
     "metadata": {},
     "output_type": "execute_result"
    }
   ],
   "source": [
    "ratings.head()"
   ]
  },
  {
   "cell_type": "code",
   "execution_count": 6,
   "metadata": {},
   "outputs": [
    {
     "data": {
      "text/html": [
       "<div>\n",
       "<style scoped>\n",
       "    .dataframe tbody tr th:only-of-type {\n",
       "        vertical-align: middle;\n",
       "    }\n",
       "\n",
       "    .dataframe tbody tr th {\n",
       "        vertical-align: top;\n",
       "    }\n",
       "\n",
       "    .dataframe thead th {\n",
       "        text-align: right;\n",
       "    }\n",
       "</style>\n",
       "<table border=\"1\" class=\"dataframe\">\n",
       "  <thead>\n",
       "    <tr style=\"text-align: right;\">\n",
       "      <th></th>\n",
       "      <th>userId</th>\n",
       "      <th>movieId</th>\n",
       "      <th>tag</th>\n",
       "      <th>timestamp</th>\n",
       "    </tr>\n",
       "  </thead>\n",
       "  <tbody>\n",
       "    <tr>\n",
       "      <th>0</th>\n",
       "      <td>2</td>\n",
       "      <td>60756</td>\n",
       "      <td>funny</td>\n",
       "      <td>1445714994</td>\n",
       "    </tr>\n",
       "    <tr>\n",
       "      <th>1</th>\n",
       "      <td>2</td>\n",
       "      <td>60756</td>\n",
       "      <td>Highly quotable</td>\n",
       "      <td>1445714996</td>\n",
       "    </tr>\n",
       "    <tr>\n",
       "      <th>2</th>\n",
       "      <td>2</td>\n",
       "      <td>60756</td>\n",
       "      <td>will ferrell</td>\n",
       "      <td>1445714992</td>\n",
       "    </tr>\n",
       "    <tr>\n",
       "      <th>3</th>\n",
       "      <td>2</td>\n",
       "      <td>89774</td>\n",
       "      <td>Boxing story</td>\n",
       "      <td>1445715207</td>\n",
       "    </tr>\n",
       "    <tr>\n",
       "      <th>4</th>\n",
       "      <td>2</td>\n",
       "      <td>89774</td>\n",
       "      <td>MMA</td>\n",
       "      <td>1445715200</td>\n",
       "    </tr>\n",
       "  </tbody>\n",
       "</table>\n",
       "</div>"
      ],
      "text/plain": [
       "   userId  movieId              tag   timestamp\n",
       "0       2    60756            funny  1445714994\n",
       "1       2    60756  Highly quotable  1445714996\n",
       "2       2    60756     will ferrell  1445714992\n",
       "3       2    89774     Boxing story  1445715207\n",
       "4       2    89774              MMA  1445715200"
      ]
     },
     "execution_count": 6,
     "metadata": {},
     "output_type": "execute_result"
    }
   ],
   "source": [
    "tags.head()"
   ]
  },
  {
   "cell_type": "code",
   "execution_count": 7,
   "metadata": {},
   "outputs": [],
   "source": [
    "d=datetime.fromtimestamp(tags['timestamp'][1])"
   ]
  },
  {
   "cell_type": "markdown",
   "metadata": {},
   "source": [
    "**Выделим 10ку самых акивных пользователей по числу оценок, а так же количеству тэгов**"
   ]
  },
  {
   "cell_type": "code",
   "execution_count": 8,
   "metadata": {},
   "outputs": [
    {
     "data": {
      "text/plain": [
       "userId\n",
       "414    2698\n",
       "599    2478\n",
       "474    2108\n",
       "448    1864\n",
       "274    1346\n",
       "610    1302\n",
       "68     1260\n",
       "380    1218\n",
       "606    1115\n",
       "288    1055\n",
       "Name: rating, dtype: int64"
      ]
     },
     "execution_count": 8,
     "metadata": {},
     "output_type": "execute_result"
    }
   ],
   "source": [
    "ratings.groupby('userId')['rating'].count().sort_values(ascending=False)[:10]"
   ]
  },
  {
   "cell_type": "code",
   "execution_count": 9,
   "metadata": {},
   "outputs": [
    {
     "data": {
      "text/plain": [
       "userId\n",
       "474    1507\n",
       "567     432\n",
       "62      370\n",
       "599     323\n",
       "477     280\n",
       "424     273\n",
       "537     100\n",
       "125      48\n",
       "357      45\n",
       "318      41\n",
       "Name: tag, dtype: int64"
      ]
     },
     "execution_count": 9,
     "metadata": {},
     "output_type": "execute_result"
    }
   ],
   "source": [
    "tags.groupby('userId')['tag'].count().sort_values(ascending=False)[:10]"
   ]
  },
  {
   "cell_type": "markdown",
   "metadata": {},
   "source": [
    "**Пользователь с номером 474 достаточно активен в обоих наборах данных**"
   ]
  },
  {
   "cell_type": "code",
   "execution_count": 10,
   "metadata": {},
   "outputs": [],
   "source": [
    "tags474 = tags[tags['userId']==474][['movieId', 'tag', 'timestamp']]\n",
    "ratings474 = ratings[ratings['userId']==474][['movieId', 'rating', 'timestamp']]"
   ]
  },
  {
   "cell_type": "markdown",
   "metadata": {},
   "source": [
    "**Сначала векторизуем тэги**"
   ]
  },
  {
   "cell_type": "code",
   "execution_count": 11,
   "metadata": {},
   "outputs": [],
   "source": [
    "tags474.tag = tags474['tag'].apply(lambda x: ' '.join(x.replace(' ', '').replace('-','').split()))"
   ]
  },
  {
   "cell_type": "code",
   "execution_count": 12,
   "metadata": {},
   "outputs": [],
   "source": [
    "countvec = CountVectorizer()\n",
    "tags474vec = countvec.fit_transform(tags474.tag)\n",
    "tfidf = TfidfTransformer()\n",
    "tags474tfidf = tfidf.fit_transform(tags474vec)"
   ]
  },
  {
   "cell_type": "code",
   "execution_count": 13,
   "metadata": {},
   "outputs": [
    {
     "data": {
      "text/plain": [
       "{'pixar': 377,\n",
       " 'game': 192,\n",
       " 'pregnancy': 385,\n",
       " 'remake': 413,\n",
       " 'politics': 381,\n",
       " 'president': 388,\n",
       " 'mafia': 293,\n",
       " 'janeausten': 261,\n",
       " 'hollywood': 229,\n",
       " 'serialkiller': 444,\n",
       " 'alcoholism': 20,\n",
       " 'shakespeare': 447,\n",
       " 'innetflixqueue': 250,\n",
       " 'kidnapping': 274,\n",
       " 'highschool': 224,\n",
       " 'teacher': 500,\n",
       " 'timetravel': 513,\n",
       " 'animalmovie': 30,\n",
       " 'pigs': 376,\n",
       " 'deathpenalty': 135,\n",
       " 'nun': 353,\n",
       " 'twins': 530,\n",
       " 'emma': 163,\n",
       " 'southafrica': 467,\n",
       " 'england': 165,\n",
       " 'journalism': 270,\n",
       " 'wedding': 551,\n",
       " 'heist': 220,\n",
       " 'adoption': 13,\n",
       " 'prostitution': 394,\n",
       " 'writing': 565,\n",
       " 'music': 334,\n",
       " 'jekyllandhyde': 266,\n",
       " 'theater': 509,\n",
       " 'crime': 124,\n",
       " 'golf': 203,\n",
       " 'muppets': 332,\n",
       " 'scotland': 440,\n",
       " 'assassination': 41,\n",
       " 'holocaust': 230,\n",
       " 'dating': 130,\n",
       " 'moon': 320,\n",
       " 'nasa': 338,\n",
       " 'space': 470,\n",
       " 'superhero': 496,\n",
       " 'michaelcrichton': 310,\n",
       " 'submarine': 491,\n",
       " 'computers': 116,\n",
       " 'mademecry': 292,\n",
       " 'generationx': 196,\n",
       " 'school': 439,\n",
       " 'ireland': 256,\n",
       " 'mentalillness': 306,\n",
       " 'psychology': 396,\n",
       " 'stephenking': 488,\n",
       " 'moviebusiness': 326,\n",
       " 'basketball': 53,\n",
       " 'france': 187,\n",
       " 'infertility': 248,\n",
       " 'australia': 44,\n",
       " 'beethoven': 57,\n",
       " 'einstein': 161,\n",
       " 'court': 122,\n",
       " 'darthvader': 129,\n",
       " 'lukeskywalker': 290,\n",
       " 'spaceopera': 471,\n",
       " 'louisamayalcott': 289,\n",
       " 'girlpower': 201,\n",
       " 'india': 245,\n",
       " 'christmas': 103,\n",
       " 'prison': 391,\n",
       " 'disability': 143,\n",
       " 'hitmen': 228,\n",
       " 'tv': 529,\n",
       " 'death': 134,\n",
       " 'marriage': 296,\n",
       " 'wrongfulimprisonment': 566,\n",
       " 'enterprise': 166,\n",
       " 'coma': 115,\n",
       " 'weddings': 552,\n",
       " 'crossdressing': 125,\n",
       " 'menindrag': 305,\n",
       " 'remade': 412,\n",
       " 'tomclancy': 520,\n",
       " 'johngrisham': 268,\n",
       " 'interracialromance': 253,\n",
       " 'shrimp': 455,\n",
       " 'vietnam': 541,\n",
       " 'gambling': 191,\n",
       " 'disney': 145,\n",
       " 'bus': 81,\n",
       " 'spies': 476,\n",
       " 'edithwharton': 160,\n",
       " 'horses': 233,\n",
       " 'oscar': 361,\n",
       " 'bestactress': 58,\n",
       " 'basedonatvshow': 52,\n",
       " 'hulahoop': 237,\n",
       " 'biopic': 64,\n",
       " 'dinosaur': 141,\n",
       " 'japan': 262,\n",
       " 'sexuality': 446,\n",
       " 'divorce': 146,\n",
       " 'aids': 18,\n",
       " 'radio': 404,\n",
       " 'showbusiness': 454,\n",
       " 'butler': 84,\n",
       " 'housekeeper': 234,\n",
       " 'military': 313,\n",
       " 'racism': 403,\n",
       " 'violence': 542,\n",
       " 'football': 185,\n",
       " 'chess': 98,\n",
       " 'lewis': 282,\n",
       " 'largecast': 277,\n",
       " 'race': 402,\n",
       " 'empirestatebuilding': 164,\n",
       " 'robots': 423,\n",
       " 'beatpoetry': 56,\n",
       " 'halloween': 212,\n",
       " 'adolescence': 12,\n",
       " 'overrated': 364,\n",
       " 'americanindians': 24,\n",
       " 'nativeamericans': 339,\n",
       " 'hanniballector': 215,\n",
       " 'coenbrothers': 110,\n",
       " 'priest': 389,\n",
       " 'babies': 47,\n",
       " 'gulfwar': 209,\n",
       " 'spoof': 477,\n",
       " 'bugsbunny': 80,\n",
       " 'veterinarian': 539,\n",
       " 'aardman': 7,\n",
       " 'alcatraz': 19,\n",
       " 'disaster': 144,\n",
       " 'aliens': 21,\n",
       " 'atomicbomb': 43,\n",
       " 'drugabuse': 156,\n",
       " 'adultery': 14,\n",
       " 'capote': 92,\n",
       " 'falling': 174,\n",
       " 'voyeurism': 547,\n",
       " 'screwball': 442,\n",
       " 'brooch': 78,\n",
       " 'mountrushmore': 325,\n",
       " 'startofabeautifulfriendship': 484,\n",
       " 'statue': 486,\n",
       " 'georgebernardshaw': 198,\n",
       " 'richguypoorgirl': 417,\n",
       " 'italy': 259,\n",
       " 'royalty': 429,\n",
       " '1900s': 1,\n",
       " 'dorothy': 154,\n",
       " 'toto': 521,\n",
       " 'civilwar': 105,\n",
       " 'television': 504,\n",
       " 'movies': 327,\n",
       " 'rosebud': 428,\n",
       " 'hal': 211,\n",
       " 'mrs': 329,\n",
       " 'dewinter': 138,\n",
       " 'europe': 168,\n",
       " 'war': 548,\n",
       " 'amnesia': 26,\n",
       " 'coldwar': 112,\n",
       " 'russia': 430,\n",
       " 'swashbuckler': 499,\n",
       " 'ghosts': 200,\n",
       " 'shangrila': 449,\n",
       " 'astaireandrogers': 42,\n",
       " 'homeless': 232,\n",
       " 'oil': 357,\n",
       " 'nickandnoracharles': 344,\n",
       " 'leopard': 281,\n",
       " 'fugitive': 189,\n",
       " 'zombies': 569,\n",
       " 'missionary': 317,\n",
       " 'tennesseewilliams': 505,\n",
       " 'hemingway': 221,\n",
       " 'food': 184,\n",
       " 'kingarthur': 275,\n",
       " 'nanny': 337,\n",
       " 'rogersandhammerstein': 424,\n",
       " 'antisemitism': 34,\n",
       " 'governess': 206,\n",
       " 'fish': 182,\n",
       " 'bible': 60,\n",
       " 'parody': 368,\n",
       " 'religion': 411,\n",
       " '1920s': 2,\n",
       " 'gangsters': 194,\n",
       " 'dance': 127,\n",
       " '1960s': 4,\n",
       " 'jimmorrison': 267,\n",
       " 'navy': 340,\n",
       " '1950s': 3,\n",
       " 'aging': 17,\n",
       " 'clousseau': 109,\n",
       " 'boxing': 74,\n",
       " 'police': 380,\n",
       " 'iamyourfather': 239,\n",
       " 'inigomontoya': 249,\n",
       " 'sixfingeredman': 461,\n",
       " 'archaeology': 36,\n",
       " 'arkofthecovenant': 37,\n",
       " 'indianajones': 246,\n",
       " 'spaghettiwestern': 473,\n",
       " 'middleeast': 312,\n",
       " 'brainwashing': 75,\n",
       " 'harperlee': 216,\n",
       " 'ferriswheel': 179,\n",
       " 'venice': 537,\n",
       " 'zither': 568,\n",
       " 'samurai': 435,\n",
       " 'normanbates': 349,\n",
       " 'saturdaynightlive': 436,\n",
       " 'mozart': 328,\n",
       " 'salieri': 433,\n",
       " 'newyork': 343,\n",
       " 'theentertainer': 510,\n",
       " 'maydecemberromance': 301,\n",
       " 'shakespearesortof': 448,\n",
       " 'blackandwhite': 66,\n",
       " 'simonandgarfunkel': 457,\n",
       " 'pow': 383,\n",
       " 'incest': 243,\n",
       " 'cold': 111,\n",
       " 'skiing': 462,\n",
       " 'revenge': 416,\n",
       " 'murder': 333,\n",
       " 'worldwarii': 564,\n",
       " 'nazis': 341,\n",
       " 'gunfight': 210,\n",
       " 'hammett': 213,\n",
       " 'heavymetal': 219,\n",
       " 'mockumentary': 318,\n",
       " 'holygrail': 231,\n",
       " 'forster': 186,\n",
       " 'cambodia': 86,\n",
       " 'baseball': 51,\n",
       " 'birds': 65,\n",
       " 'lawyer': 279,\n",
       " 'prom': 393,\n",
       " 'vampires': 535,\n",
       " 'demons': 136,\n",
       " 'personalsads': 373,\n",
       " 'borg': 72,\n",
       " 'excon': 171,\n",
       " 'arthurmiller': 39,\n",
       " 'dogs': 150,\n",
       " 'klingons': 276,\n",
       " 'captainkirk': 93,\n",
       " 'whales': 554,\n",
       " 'shark': 450,\n",
       " 'sports': 478,\n",
       " 'spying': 479,\n",
       " 'slasher': 463,\n",
       " 'hawkeye': 217,\n",
       " 'jamesfennimorecooper': 260,\n",
       " 'conan': 117,\n",
       " 'andrewlloydweber': 28,\n",
       " 'jungle': 272,\n",
       " 'tolstoy': 519,\n",
       " 'reunion': 415,\n",
       " 'ballroomdance': 50,\n",
       " 'dinosaurs': 142,\n",
       " 'transplants': 525,\n",
       " 'twistending': 531,\n",
       " '1970s': 5,\n",
       " 'queenvictoria': 400,\n",
       " 'lawyers': 280,\n",
       " 'henryjames': 222,\n",
       " 'future': 190,\n",
       " 'amish': 25,\n",
       " 'alternateuniverse': 23,\n",
       " 'savannah': 437,\n",
       " 'sequel': 443,\n",
       " 'canada': 89,\n",
       " 'shipwreck': 452,\n",
       " 'charlesdickens': 96,\n",
       " '1980s': 6,\n",
       " 'nodvdatnetflix': 348,\n",
       " 'conspiracy': 119,\n",
       " 'mathematics': 300,\n",
       " 'ships': 451,\n",
       " 'judaism': 271,\n",
       " 'hueylong': 236,\n",
       " 'robertpennwarren': 422,\n",
       " 'couldabeenacontender': 121,\n",
       " 'gangs': 193,\n",
       " 'dickens': 140,\n",
       " 'drugs': 157,\n",
       " 'olympics': 358,\n",
       " 'africa': 15,\n",
       " 'china': 102,\n",
       " 'autism': 45,\n",
       " 'rasicm': 407,\n",
       " 'jason': 263,\n",
       " 'california': 85,\n",
       " 'mexico': 308,\n",
       " 'katzanzakis': 273,\n",
       " 'generalmotors': 195,\n",
       " 'michigan': 311,\n",
       " 'memory': 304,\n",
       " 'suburbia': 492,\n",
       " 'carnival': 94,\n",
       " 'raybradbury': 408,\n",
       " 'mermaid': 307,\n",
       " 'weatherforecaster': 550,\n",
       " 'hinton': 225,\n",
       " 'tolkein': 518,\n",
       " 'mice': 309,\n",
       " 'aquarium': 35,\n",
       " 'boston': 73,\n",
       " 'capone': 91,\n",
       " 'survival': 498,\n",
       " 'smalltowns': 465,\n",
       " 'paranoia': 366,\n",
       " 'train': 523,\n",
       " 'inyoureyes': 255,\n",
       " 'lloyddobbler': 285,\n",
       " 'freaks': 188,\n",
       " 'broadway': 77,\n",
       " 'terrorism': 507,\n",
       " 'southamerica': 468,\n",
       " 'moses': 322,\n",
       " 'martialarts': 297,\n",
       " 'email': 162,\n",
       " 'doctors': 148,\n",
       " 'hungary': 238,\n",
       " 'stapler': 483,\n",
       " 'workplace': 562,\n",
       " 'evilchildren': 169,\n",
       " 'siam': 456,\n",
       " 'southernus': 469,\n",
       " 'golfing': 204,\n",
       " 'virtualreality': 545,\n",
       " 'motherhood': 323,\n",
       " 'prequel': 387,\n",
       " 'theforce': 511,\n",
       " 'alternateendings': 22,\n",
       " 'startrek': 485,\n",
       " 'spiders': 475,\n",
       " 'claimstobetrue': 106,\n",
       " 'video': 540,\n",
       " 'crucifixion': 126,\n",
       " 'rome': 427,\n",
       " 'slavery': 464,\n",
       " 'nostalgia': 350,\n",
       " 'iseedeadpeople': 257,\n",
       " 'aviation': 46,\n",
       " 'children': 100,\n",
       " 'beatles': 55,\n",
       " 'river': 419,\n",
       " 'academyaward': 9,\n",
       " 'bestsupportingactress': 59,\n",
       " 'indonesia': 247,\n",
       " 'nightclub': 346,\n",
       " 'island': 258,\n",
       " 'brothers': 79,\n",
       " 'lawnmower': 278,\n",
       " 'liveaction': 284,\n",
       " 'animation': 31,\n",
       " 'anime': 32,\n",
       " 'tobacco': 515,\n",
       " 'truestory': 527,\n",
       " 'dancemarathon': 128,\n",
       " 'class': 107,\n",
       " 'camp': 88,\n",
       " 'upseries': 533,\n",
       " 'ichabodcrane': 240,\n",
       " 'depression': 137,\n",
       " 'dustbowl': 159,\n",
       " 'grahamgreene': 208,\n",
       " 'fatherhood': 177,\n",
       " 'andykaufman': 29,\n",
       " 'adingoatemybaby': 11,\n",
       " 'nuns': 354,\n",
       " 'plasticsurgery': 379,\n",
       " 'figureskating': 180,\n",
       " 'bigtop': 62,\n",
       " 'circus': 104,\n",
       " 'blind': 67,\n",
       " 'orphans': 360,\n",
       " 'subway': 493,\n",
       " 'peacecorp': 370,\n",
       " 'scandal': 438,\n",
       " 'college': 114,\n",
       " 'toga': 516,\n",
       " 'insurance': 251,\n",
       " 'pearlsbuck': 371,\n",
       " 'hepburnandtracy': 223,\n",
       " 'interracialmarriage': 252,\n",
       " 'prejudice': 386,\n",
       " 'factory': 172,\n",
       " 'pool': 382,\n",
       " 'evolution': 170,\n",
       " 'nickhornby': 345,\n",
       " 'peterpan': 374,\n",
       " 'families': 175,\n",
       " 'psychiatrist': 395,\n",
       " 'rabbi': 401,\n",
       " 'suicide': 494,\n",
       " 'business': 82,\n",
       " 'peeweeherman': 372,\n",
       " 'mining': 314,\n",
       " 'missingchildren': 316,\n",
       " 'diabetes': 139,\n",
       " 'televangelist': 503,\n",
       " 'rollingstone': 426,\n",
       " 'blindness': 68,\n",
       " 'invisibility': 254,\n",
       " 'ballet': 49,\n",
       " 'family': 176,\n",
       " 'dr': 155,\n",
       " 'seuss': 445,\n",
       " 'standupcomedy': 482,\n",
       " 'pageant': 365,\n",
       " 'bluegrass': 69,\n",
       " 'quakers': 399,\n",
       " 'psychopaths': 397,\n",
       " 'realitytv': 410,\n",
       " 'eugeneo': 167,\n",
       " 'neill': 342,\n",
       " 'preacher': 384,\n",
       " 'virginity': 544,\n",
       " 'hanniballecter': 214,\n",
       " 'vonbulow': 546,\n",
       " 'backwards': 48,\n",
       " 'singletons': 459,\n",
       " 'nabokov': 336,\n",
       " 'union': 532,\n",
       " 'fairytales': 173,\n",
       " 'strangersonatrain': 490,\n",
       " 'accident': 10,\n",
       " 'rape': 406,\n",
       " 'immigrants': 241,\n",
       " 'hippies': 227,\n",
       " 'prodigies': 392,\n",
       " 'nucleardisaster': 352,\n",
       " 'lorettalynn': 287,\n",
       " 'tradition': 522,\n",
       " 'magic': 294,\n",
       " 'wizards': 559,\n",
       " 'singers': 458,\n",
       " 'whimsical': 555,\n",
       " 'agathachristie': 16,\n",
       " 'ghost': 199,\n",
       " 'dumas': 158,\n",
       " 'books': 71,\n",
       " 'sisterhood': 460,\n",
       " 'women': 561,\n",
       " 'oscarwilde': 362,\n",
       " 'youngermen': 567,\n",
       " 'asbyatt': 40,\n",
       " 'photography': 375,\n",
       " 'bombs': 70,\n",
       " 'lougehrig': 288,\n",
       " 'violenceinamerica': 543,\n",
       " 'pudding': 398,\n",
       " 'worldwari': 563,\n",
       " 'art': 38,\n",
       " 'teenagers': 502,\n",
       " 'salutetodouglassirk': 434,\n",
       " 'musicbusiness': 335,\n",
       " 'shortfilms': 453,\n",
       " 'jazz': 264,\n",
       " 'planes': 378,\n",
       " 'widows': 557,\n",
       " 'widowers': 556,\n",
       " 'doll': 151,\n",
       " 'chile': 101,\n",
       " 'obsession': 355,\n",
       " 'stephencrane': 487,\n",
       " 'dayandhudson': 131,\n",
       " 'stonesofsummer': 489,\n",
       " 'soccer': 466,\n",
       " 'lions': 283,\n",
       " 'bigbrothers': 61,\n",
       " 'titanic': 514,\n",
       " 'spellingbee': 474,\n",
       " 'jeangrey': 265,\n",
       " 'magneto': 295,\n",
       " 'rogue': 425,\n",
       " 'wolverine': 560,\n",
       " 'teachers': 501,\n",
       " 'trains': 524,\n",
       " 'retro': 414,\n",
       " 'theymightbegiants': 512,\n",
       " 'childabuse': 99,\n",
       " 'ninotchkaremake': 347,\n",
       " 'tokyo': 517,\n",
       " 'dodiesmith': 149,\n",
       " 'flood': 183,\n",
       " 'immigration': 242,\n",
       " 'othello': 363,\n",
       " 'cancer': 90,\n",
       " 'roadtrip': 420,\n",
       " 'multipleroles': 331,\n",
       " 'fbi': 178,\n",
       " 'terminalillness': 506,\n",
       " 'conmen': 118,\n",
       " 'vertriloquism': 538,\n",
       " 'matchmaker': 299,\n",
       " 'vampire': 534,\n",
       " 'biking': 63,\n",
       " 'lonesomepolecat': 286,\n",
       " 'watergate': 549,\n",
       " 'britishcomedy': 76,\n",
       " 'domesticviolence': 152,\n",
       " 'werewolf': 553,\n",
       " 'thanksgiving': 508,\n",
       " 'ritahayworthcandance': 418,\n",
       " 'rap': 405,\n",
       " 'saint': 431,\n",
       " 'goodandevil': 205,\n",
       " 'scottturow': 441,\n",
       " 'cattledrive': 95,\n",
       " 'marxbrothers': 298,\n",
       " 'opera': 359,\n",
       " 'realestate': 409,\n",
       " 'charlottebronte': 97,\n",
       " 'truckers': 526,\n",
       " 'mountainclimbing': 324,\n",
       " 'grace': 207,\n",
       " 'multiplepersonalities': 330,\n",
       " 'deaf': 132,\n",
       " 'spacestation': 472,\n",
       " 'macbeth': 291,\n",
       " 'amtrak': 27,\n",
       " 'independent': 244,\n",
       " 'sundanceawardwinner': 495,\n",
       " 'vangogh': 536,\n",
       " 'notavailablefromnetflix': 351,\n",
       " 'anneboleyn': 33,\n",
       " 'clock': 108,\n",
       " 'prince': 390,\n",
       " 'convent': 120,\n",
       " 'ogres': 356,\n",
       " 'deafness': 133,\n",
       " 'mcdonalds': 303,\n",
       " 'docock': 147,\n",
       " 'coleporter': 113,\n",
       " 'standup': 481,\n",
       " 'parenthood': 367,\n",
       " 'stage': 480,\n",
       " 'wine': 558,\n",
       " 'abortion': 8,\n",
       " 'hearst': 218,\n",
       " 'gold': 202,\n",
       " 'mirrors': 315,\n",
       " 'donkey': 153,\n",
       " 'saints': 432,\n",
       " 'camels': 87,\n",
       " 'surfing': 497,\n",
       " 'genocide': 197,\n",
       " 'roalddahl': 421,\n",
       " 'howardhughes': 235,\n",
       " 'busniess': 83,\n",
       " '06oscarnominatedbestmovieanimation': 0,\n",
       " 'parrots': 369,\n",
       " 'money': 319,\n",
       " 'hiphop': 226,\n",
       " 'firefly': 181,\n",
       " 'bears': 54,\n",
       " 'trumancapote': 528,\n",
       " 'courtroomdrama': 123,\n",
       " 'mccarthyhearings': 302,\n",
       " 'morrow': 321,\n",
       " 'johnnycash': 269}"
      ]
     },
     "execution_count": 13,
     "metadata": {},
     "output_type": "execute_result"
    }
   ],
   "source": [
    "countvec.vocabulary_"
   ]
  },
  {
   "cell_type": "code",
   "execution_count": 14,
   "metadata": {},
   "outputs": [],
   "source": [
    "tags474tfidf = tags474tfidf.toarray()"
   ]
  },
  {
   "cell_type": "code",
   "execution_count": 15,
   "metadata": {},
   "outputs": [],
   "source": [
    "for column in range(tags474tfidf.shape[1]):\n",
    "    col_name = 't'+ str(column)\n",
    "    tags474[col_name] = pd.Series(tags474tfidf[:,column])\n",
    "    "
   ]
  },
  {
   "cell_type": "markdown",
   "metadata": {},
   "source": [
    "**Векторизуем жанры. Заодно выделим год создания фильма в отдельный параметр**"
   ]
  },
  {
   "cell_type": "code",
   "execution_count": 16,
   "metadata": {},
   "outputs": [],
   "source": [
    "movies['genres'] = movies.apply(lambda x: ' '.join(x['genres'].replace(' ', '').replace('-','').split('|')), axis=1)"
   ]
  },
  {
   "cell_type": "code",
   "execution_count": 17,
   "metadata": {},
   "outputs": [],
   "source": [
    "def extract_year(x):\n",
    "    try:\n",
    "        return int(x.rstrip()[-5:-1])\n",
    "    except:\n",
    "        return 0"
   ]
  },
  {
   "cell_type": "code",
   "execution_count": 18,
   "metadata": {},
   "outputs": [],
   "source": [
    "movies['year'] = movies['title'].apply(extract_year)"
   ]
  },
  {
   "cell_type": "code",
   "execution_count": 19,
   "metadata": {},
   "outputs": [],
   "source": [
    "movies = pd.get_dummies(movies, columns=['year'])"
   ]
  },
  {
   "cell_type": "code",
   "execution_count": 20,
   "metadata": {},
   "outputs": [],
   "source": [
    "tfidfvec = TfidfVectorizer()\n",
    "tfidfgenres = tfidfvec.fit_transform(movies.genres)\n",
    "tfidfgenres = tfidfgenres.toarray()"
   ]
  },
  {
   "cell_type": "code",
   "execution_count": 21,
   "metadata": {},
   "outputs": [],
   "source": [
    "for column in range(tfidfgenres.shape[1]):\n",
    "    col_name = 'g'+ str(column)\n",
    "    movies[col_name] = pd.Series(tfidfgenres[:,column])"
   ]
  },
  {
   "cell_type": "markdown",
   "metadata": {},
   "source": [
    "**Добавим средний рейтинг к фильмам**"
   ]
  },
  {
   "cell_type": "code",
   "execution_count": 22,
   "metadata": {},
   "outputs": [],
   "source": [
    "rating_mean = ratings.groupby('movieId')[['rating']].mean()"
   ]
  },
  {
   "cell_type": "code",
   "execution_count": 23,
   "metadata": {},
   "outputs": [],
   "source": [
    "movies=movies.join(rating_mean, on='movieId')"
   ]
  },
  {
   "cell_type": "code",
   "execution_count": 24,
   "metadata": {},
   "outputs": [],
   "source": [
    "movies.rename(columns={'rating':'mean_rating'}, inplace=True)"
   ]
  },
  {
   "cell_type": "markdown",
   "metadata": {},
   "source": [
    "**Далее все объединяем**"
   ]
  },
  {
   "cell_type": "code",
   "execution_count": 25,
   "metadata": {},
   "outputs": [],
   "source": [
    "user474 = ratings474.join(tags474.set_index('movieId'), on='movieId', lsuffix='_rating', rsuffix='_tag')"
   ]
  },
  {
   "cell_type": "code",
   "execution_count": 26,
   "metadata": {},
   "outputs": [],
   "source": [
    "user474 = user474.join(movies.set_index('movieId'), on='movieId')"
   ]
  },
  {
   "cell_type": "code",
   "execution_count": 27,
   "metadata": {},
   "outputs": [],
   "source": [
    "user474.drop(labels=['tag', 'title', 'genres', 'movieId','timestamp_rating', 'timestamp_tag'], axis=1, inplace=True)"
   ]
  },
  {
   "cell_type": "code",
   "execution_count": 28,
   "metadata": {},
   "outputs": [],
   "source": [
    "user474.fillna(value=0, inplace=True)"
   ]
  },
  {
   "cell_type": "markdown",
   "metadata": {},
   "source": [
    "**Подготовка модели**"
   ]
  },
  {
   "cell_type": "code",
   "execution_count": 29,
   "metadata": {},
   "outputs": [],
   "source": [
    "X = user474.drop(labels=['rating'], axis=1)\n",
    "y = user474.rating"
   ]
  },
  {
   "cell_type": "code",
   "execution_count": 34,
   "metadata": {},
   "outputs": [],
   "source": [
    "from sklearn.model_selection import train_test_split\n",
    "from sklearn.neighbors import KNeighborsRegressor\n",
    "from sklearn.metrics import mean_absolute_error, mean_squared_error\n",
    "from sklearn.model_selection import GridSearchCV\n",
    "\n",
    "X_train, X_test, y_train, y_test = train_test_split(X, y)"
   ]
  },
  {
   "cell_type": "code",
   "execution_count": 46,
   "metadata": {},
   "outputs": [],
   "source": [
    "model = KNeighborsRegressor()"
   ]
  },
  {
   "cell_type": "code",
   "execution_count": 47,
   "metadata": {},
   "outputs": [],
   "source": [
    "grid = GridSearchCV(model, {'n_neighbors':range(10,15,1), 'p':[1,2]}, cv=5, scoring='neg_mean_squared_error')"
   ]
  },
  {
   "cell_type": "code",
   "execution_count": 48,
   "metadata": {
    "collapsed": true,
    "jupyter": {
     "outputs_hidden": true
    }
   },
   "outputs": [
    {
     "data": {
      "text/plain": [
       "GridSearchCV(cv=5, error_score='raise-deprecating',\n",
       "       estimator=KNeighborsRegressor(algorithm='auto', leaf_size=30, metric='minkowski',\n",
       "          metric_params=None, n_jobs=None, n_neighbors=5, p=2,\n",
       "          weights='uniform'),\n",
       "       fit_params=None, iid='warn', n_jobs=None,\n",
       "       param_grid={'n_neighbors': range(10, 15), 'p': [1, 2]},\n",
       "       pre_dispatch='2*n_jobs', refit=True, return_train_score='warn',\n",
       "       scoring='neg_mean_squared_error', verbose=0)"
      ]
     },
     "execution_count": 48,
     "metadata": {},
     "output_type": "execute_result"
    }
   ],
   "source": [
    "grid.fit(X_train, y_train)"
   ]
  },
  {
   "cell_type": "code",
   "execution_count": 49,
   "metadata": {},
   "outputs": [
    {
     "data": {
      "text/plain": [
       "{'n_neighbors': 12, 'p': 2}"
      ]
     },
     "execution_count": 49,
     "metadata": {},
     "output_type": "execute_result"
    }
   ],
   "source": [
    "grid.best_params_"
   ]
  },
  {
   "cell_type": "code",
   "execution_count": 50,
   "metadata": {},
   "outputs": [
    {
     "data": {
      "text/plain": [
       "0.4389379910213243"
      ]
     },
     "execution_count": 50,
     "metadata": {},
     "output_type": "execute_result"
    }
   ],
   "source": [
    "mean_squared_error(y_test, grid.predict(X_test))"
   ]
  },
  {
   "cell_type": "code",
   "execution_count": 51,
   "metadata": {},
   "outputs": [
    {
     "data": {
      "text/plain": [
       "0.5064534231200898"
      ]
     },
     "execution_count": 51,
     "metadata": {},
     "output_type": "execute_result"
    }
   ],
   "source": [
    "mean_absolute_error(y_test, grid.predict(X_test))"
   ]
  },
  {
   "cell_type": "markdown",
   "metadata": {},
   "source": [
    "**Ошибка в 0.5 баллов не должна быть сильно критичной.**"
   ]
  },
  {
   "cell_type": "code",
   "execution_count": null,
   "metadata": {},
   "outputs": [],
   "source": []
  }
 ],
 "metadata": {
  "kernelspec": {
   "display_name": "Python 3",
   "language": "python",
   "name": "python3"
  },
  "language_info": {
   "codemirror_mode": {
    "name": "ipython",
    "version": 3
   },
   "file_extension": ".py",
   "mimetype": "text/x-python",
   "name": "python",
   "nbconvert_exporter": "python",
   "pygments_lexer": "ipython3",
   "version": "3.7.2"
  }
 },
 "nbformat": 4,
 "nbformat_minor": 4
}
