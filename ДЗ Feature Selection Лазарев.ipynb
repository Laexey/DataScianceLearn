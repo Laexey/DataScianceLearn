{
 "cells": [
  {
   "cell_type": "code",
   "execution_count": 1,
   "metadata": {},
   "outputs": [],
   "source": [
    "%matplotlib inline\n",
    "\n",
    "import pandas as pd\n",
    "import numpy as np\n",
    "import matplotlib.pyplot as plt\n",
    "import seaborn as sns\n",
    "import xgboost\n",
    "from sklearn.metrics import roc_auc_score, roc_curve"
   ]
  },
  {
   "cell_type": "code",
   "execution_count": 2,
   "metadata": {},
   "outputs": [],
   "source": [
    "data_raw = pd.read_csv('taxi.csv')"
   ]
  },
  {
   "cell_type": "code",
   "execution_count": 3,
   "metadata": {},
   "outputs": [
    {
     "data": {
      "text/html": [
       "<div>\n",
       "<style scoped>\n",
       "    .dataframe tbody tr th:only-of-type {\n",
       "        vertical-align: middle;\n",
       "    }\n",
       "\n",
       "    .dataframe tbody tr th {\n",
       "        vertical-align: top;\n",
       "    }\n",
       "\n",
       "    .dataframe thead th {\n",
       "        text-align: right;\n",
       "    }\n",
       "</style>\n",
       "<table border=\"1\" class=\"dataframe\">\n",
       "  <thead>\n",
       "    <tr style=\"text-align: right;\">\n",
       "      <th></th>\n",
       "      <th>offer_gk</th>\n",
       "      <th>weekday_key</th>\n",
       "      <th>hour_key</th>\n",
       "      <th>driver_gk</th>\n",
       "      <th>order_gk</th>\n",
       "      <th>driver_latitude</th>\n",
       "      <th>driver_longitude</th>\n",
       "      <th>origin_order_latitude</th>\n",
       "      <th>origin_order_longitude</th>\n",
       "      <th>distance_km</th>\n",
       "      <th>duration_min</th>\n",
       "      <th>offer_class_group</th>\n",
       "      <th>ride_type_desc</th>\n",
       "      <th>driver_response</th>\n",
       "    </tr>\n",
       "  </thead>\n",
       "  <tbody>\n",
       "    <tr>\n",
       "      <th>0</th>\n",
       "      <td>1105373</td>\n",
       "      <td>5</td>\n",
       "      <td>20</td>\n",
       "      <td>6080</td>\n",
       "      <td>174182</td>\n",
       "      <td>55.818842</td>\n",
       "      <td>37.334562</td>\n",
       "      <td>55.814567</td>\n",
       "      <td>37.355010</td>\n",
       "      <td>-1.000</td>\n",
       "      <td>-1.000</td>\n",
       "      <td>Economy</td>\n",
       "      <td>private</td>\n",
       "      <td>0</td>\n",
       "    </tr>\n",
       "    <tr>\n",
       "      <th>1</th>\n",
       "      <td>759733</td>\n",
       "      <td>5</td>\n",
       "      <td>14</td>\n",
       "      <td>6080</td>\n",
       "      <td>358774</td>\n",
       "      <td>55.805342</td>\n",
       "      <td>37.515023</td>\n",
       "      <td>55.819329</td>\n",
       "      <td>37.466398</td>\n",
       "      <td>18.802</td>\n",
       "      <td>25.217</td>\n",
       "      <td>Standard</td>\n",
       "      <td>private</td>\n",
       "      <td>1</td>\n",
       "    </tr>\n",
       "    <tr>\n",
       "      <th>2</th>\n",
       "      <td>416977</td>\n",
       "      <td>6</td>\n",
       "      <td>14</td>\n",
       "      <td>6080</td>\n",
       "      <td>866260</td>\n",
       "      <td>55.813978</td>\n",
       "      <td>37.347688</td>\n",
       "      <td>55.814827</td>\n",
       "      <td>37.354074</td>\n",
       "      <td>6.747</td>\n",
       "      <td>9.800</td>\n",
       "      <td>Economy</td>\n",
       "      <td>private</td>\n",
       "      <td>0</td>\n",
       "    </tr>\n",
       "    <tr>\n",
       "      <th>3</th>\n",
       "      <td>889660</td>\n",
       "      <td>2</td>\n",
       "      <td>6</td>\n",
       "      <td>6080</td>\n",
       "      <td>163522</td>\n",
       "      <td>55.745922</td>\n",
       "      <td>37.421748</td>\n",
       "      <td>55.743469</td>\n",
       "      <td>37.431130</td>\n",
       "      <td>-1.000</td>\n",
       "      <td>-1.000</td>\n",
       "      <td>Economy</td>\n",
       "      <td>private</td>\n",
       "      <td>1</td>\n",
       "    </tr>\n",
       "    <tr>\n",
       "      <th>4</th>\n",
       "      <td>1120055</td>\n",
       "      <td>4</td>\n",
       "      <td>16</td>\n",
       "      <td>6080</td>\n",
       "      <td>506710</td>\n",
       "      <td>55.803578</td>\n",
       "      <td>37.521602</td>\n",
       "      <td>55.812559</td>\n",
       "      <td>37.527407</td>\n",
       "      <td>12.383</td>\n",
       "      <td>19.250</td>\n",
       "      <td>Economy</td>\n",
       "      <td>private</td>\n",
       "      <td>1</td>\n",
       "    </tr>\n",
       "    <tr>\n",
       "      <th>5</th>\n",
       "      <td>1058203</td>\n",
       "      <td>6</td>\n",
       "      <td>15</td>\n",
       "      <td>6080</td>\n",
       "      <td>360328</td>\n",
       "      <td>55.818963</td>\n",
       "      <td>37.361033</td>\n",
       "      <td>55.814827</td>\n",
       "      <td>37.354074</td>\n",
       "      <td>6.747</td>\n",
       "      <td>9.800</td>\n",
       "      <td>Economy</td>\n",
       "      <td>private</td>\n",
       "      <td>0</td>\n",
       "    </tr>\n",
       "    <tr>\n",
       "      <th>6</th>\n",
       "      <td>103326</td>\n",
       "      <td>2</td>\n",
       "      <td>11</td>\n",
       "      <td>6080</td>\n",
       "      <td>615584</td>\n",
       "      <td>55.753508</td>\n",
       "      <td>37.663742</td>\n",
       "      <td>55.757251</td>\n",
       "      <td>37.659064</td>\n",
       "      <td>-1.000</td>\n",
       "      <td>-1.000</td>\n",
       "      <td>Standard</td>\n",
       "      <td>business</td>\n",
       "      <td>1</td>\n",
       "    </tr>\n",
       "    <tr>\n",
       "      <th>7</th>\n",
       "      <td>128861</td>\n",
       "      <td>5</td>\n",
       "      <td>20</td>\n",
       "      <td>6080</td>\n",
       "      <td>254374</td>\n",
       "      <td>55.839318</td>\n",
       "      <td>37.248862</td>\n",
       "      <td>55.839134</td>\n",
       "      <td>37.304101</td>\n",
       "      <td>1.517</td>\n",
       "      <td>3.933</td>\n",
       "      <td>Economy</td>\n",
       "      <td>private</td>\n",
       "      <td>0</td>\n",
       "    </tr>\n",
       "    <tr>\n",
       "      <th>8</th>\n",
       "      <td>493006</td>\n",
       "      <td>5</td>\n",
       "      <td>20</td>\n",
       "      <td>6080</td>\n",
       "      <td>753429</td>\n",
       "      <td>55.818748</td>\n",
       "      <td>37.338240</td>\n",
       "      <td>55.835764</td>\n",
       "      <td>37.294710</td>\n",
       "      <td>6.222</td>\n",
       "      <td>15.433</td>\n",
       "      <td>Economy</td>\n",
       "      <td>private</td>\n",
       "      <td>0</td>\n",
       "    </tr>\n",
       "    <tr>\n",
       "      <th>9</th>\n",
       "      <td>953983</td>\n",
       "      <td>6</td>\n",
       "      <td>7</td>\n",
       "      <td>6080</td>\n",
       "      <td>533820</td>\n",
       "      <td>55.839155</td>\n",
       "      <td>37.251947</td>\n",
       "      <td>55.833198</td>\n",
       "      <td>37.312197</td>\n",
       "      <td>10.410</td>\n",
       "      <td>23.083</td>\n",
       "      <td>Economy</td>\n",
       "      <td>private</td>\n",
       "      <td>0</td>\n",
       "    </tr>\n",
       "  </tbody>\n",
       "</table>\n",
       "</div>"
      ],
      "text/plain": [
       "   offer_gk  weekday_key  hour_key  driver_gk  order_gk  driver_latitude  \\\n",
       "0   1105373            5        20       6080    174182        55.818842   \n",
       "1    759733            5        14       6080    358774        55.805342   \n",
       "2    416977            6        14       6080    866260        55.813978   \n",
       "3    889660            2         6       6080    163522        55.745922   \n",
       "4   1120055            4        16       6080    506710        55.803578   \n",
       "5   1058203            6        15       6080    360328        55.818963   \n",
       "6    103326            2        11       6080    615584        55.753508   \n",
       "7    128861            5        20       6080    254374        55.839318   \n",
       "8    493006            5        20       6080    753429        55.818748   \n",
       "9    953983            6         7       6080    533820        55.839155   \n",
       "\n",
       "   driver_longitude  origin_order_latitude  origin_order_longitude  \\\n",
       "0         37.334562              55.814567               37.355010   \n",
       "1         37.515023              55.819329               37.466398   \n",
       "2         37.347688              55.814827               37.354074   \n",
       "3         37.421748              55.743469               37.431130   \n",
       "4         37.521602              55.812559               37.527407   \n",
       "5         37.361033              55.814827               37.354074   \n",
       "6         37.663742              55.757251               37.659064   \n",
       "7         37.248862              55.839134               37.304101   \n",
       "8         37.338240              55.835764               37.294710   \n",
       "9         37.251947              55.833198               37.312197   \n",
       "\n",
       "   distance_km  duration_min offer_class_group ride_type_desc  driver_response  \n",
       "0       -1.000        -1.000           Economy        private                0  \n",
       "1       18.802        25.217          Standard        private                1  \n",
       "2        6.747         9.800           Economy        private                0  \n",
       "3       -1.000        -1.000           Economy        private                1  \n",
       "4       12.383        19.250           Economy        private                1  \n",
       "5        6.747         9.800           Economy        private                0  \n",
       "6       -1.000        -1.000          Standard       business                1  \n",
       "7        1.517         3.933           Economy        private                0  \n",
       "8        6.222        15.433           Economy        private                0  \n",
       "9       10.410        23.083           Economy        private                0  "
      ]
     },
     "execution_count": 3,
     "metadata": {},
     "output_type": "execute_result"
    }
   ],
   "source": [
    "data_raw.head(10)"
   ]
  },
  {
   "cell_type": "code",
   "execution_count": 4,
   "metadata": {},
   "outputs": [
    {
     "name": "stdout",
     "output_type": "stream",
     "text": [
      "<class 'pandas.core.frame.DataFrame'>\n",
      "RangeIndex: 100000 entries, 0 to 99999\n",
      "Data columns (total 14 columns):\n",
      "offer_gk                  100000 non-null int64\n",
      "weekday_key               100000 non-null int64\n",
      "hour_key                  100000 non-null int64\n",
      "driver_gk                 100000 non-null int64\n",
      "order_gk                  100000 non-null int64\n",
      "driver_latitude           100000 non-null float64\n",
      "driver_longitude          100000 non-null float64\n",
      "origin_order_latitude     100000 non-null float64\n",
      "origin_order_longitude    100000 non-null float64\n",
      "distance_km               100000 non-null float64\n",
      "duration_min              100000 non-null float64\n",
      "offer_class_group         100000 non-null object\n",
      "ride_type_desc            100000 non-null object\n",
      "driver_response           100000 non-null int64\n",
      "dtypes: float64(6), int64(6), object(2)\n",
      "memory usage: 10.7+ MB\n"
     ]
    }
   ],
   "source": [
    "data_raw.info()"
   ]
  },
  {
   "cell_type": "code",
   "execution_count": 5,
   "metadata": {},
   "outputs": [
    {
     "data": {
      "text/plain": [
       "Economy     48335\n",
       "Standard    47288\n",
       "Premium      1773\n",
       "Delivery     1290\n",
       "Kids          588\n",
       "XL            464\n",
       "VIP           225\n",
       "VIP+           29\n",
       "Test            8\n",
       "Name: offer_class_group, dtype: int64"
      ]
     },
     "execution_count": 5,
     "metadata": {},
     "output_type": "execute_result"
    }
   ],
   "source": [
    "data_raw['offer_class_group'].value_counts()"
   ]
  },
  {
   "cell_type": "code",
   "execution_count": 10,
   "metadata": {},
   "outputs": [],
   "source": [
    "def roc_auc_score_func(data_train, data_test, y_train, y_test):\n",
    "    xgb.fit(data_train, np.array(y_train).reshape(-1,1))\n",
    "    train_scores = xgb.predict_proba(data_train)[:,1]\n",
    "    test_scores = xgb.predict_proba(data_test)[:,1]\n",
    "    print(roc_auc_score(y_train, train_scores))\n",
    "    print(roc_auc_score(y_test, test_scores))"
   ]
  },
  {
   "cell_type": "markdown",
   "metadata": {},
   "source": [
    "**One Hot Encode**"
   ]
  },
  {
   "cell_type": "code",
   "execution_count": 6,
   "metadata": {},
   "outputs": [],
   "source": [
    "dummies = pd.get_dummies(data_raw.offer_class_group, prefix=\"offer_class\", drop_first=True)"
   ]
  },
  {
   "cell_type": "code",
   "execution_count": 7,
   "metadata": {},
   "outputs": [],
   "source": [
    "data_1_hot = pd.concat([data_raw.drop(['offer_class_group','ride_type_desc'], axis=1),dummies], axis=1)"
   ]
  },
  {
   "cell_type": "code",
   "execution_count": 8,
   "metadata": {},
   "outputs": [],
   "source": [
    "from sklearn.model_selection import train_test_split"
   ]
  },
  {
   "cell_type": "code",
   "execution_count": 9,
   "metadata": {},
   "outputs": [],
   "source": [
    "xgb = xgboost.XGBClassifier(max_depth=5, n_jobs=-1)"
   ]
  },
  {
   "cell_type": "code",
   "execution_count": 27,
   "metadata": {},
   "outputs": [
    {
     "name": "stdout",
     "output_type": "stream",
     "text": [
      "CPU times: user 1e+03 ns, sys: 1 µs, total: 2 µs\n",
      "Wall time: 4.05 µs\n"
     ]
    },
    {
     "name": "stderr",
     "output_type": "stream",
     "text": [
      "/Users/cornev/anaconda3/lib/python3.6/site-packages/sklearn/preprocessing/label.py:219: DataConversionWarning: A column-vector y was passed when a 1d array was expected. Please change the shape of y to (n_samples, ), for example using ravel().\n",
      "  y = column_or_1d(y, warn=True)\n",
      "/Users/cornev/anaconda3/lib/python3.6/site-packages/sklearn/preprocessing/label.py:252: DataConversionWarning: A column-vector y was passed when a 1d array was expected. Please change the shape of y to (n_samples, ), for example using ravel().\n",
      "  y = column_or_1d(y, warn=True)\n"
     ]
    },
    {
     "name": "stdout",
     "output_type": "stream",
     "text": [
      "0.8857078108853049\n",
      "0.8758153332894616\n"
     ]
    }
   ],
   "source": [
    "%time\n",
    "y = data_1_hot['driver_response']\n",
    "data_train, data_test, y_train, y_test = train_test_split(data_1_hot.drop('driver_response', axis=1), y, test_size=0.3, random_state=42)\n",
    "roc_auc_score_func(data_train, data_test, y_train, y_test)"
   ]
  },
  {
   "cell_type": "markdown",
   "metadata": {},
   "source": [
    "**Target Encoding**"
   ]
  },
  {
   "cell_type": "code",
   "execution_count": 13,
   "metadata": {},
   "outputs": [],
   "source": [
    "df = (data_raw[data_raw['driver_response'] == 1]['offer_class_group'].value_counts()/\n",
    "      data_raw['offer_class_group'].value_counts()\n",
    "     ).to_dict()"
   ]
  },
  {
   "cell_type": "code",
   "execution_count": 21,
   "metadata": {},
   "outputs": [],
   "source": [
    "data_target_encode = data_raw.copy()"
   ]
  },
  {
   "cell_type": "code",
   "execution_count": 15,
   "metadata": {},
   "outputs": [
    {
     "data": {
      "text/plain": [
       "{'Delivery': 0.6775193798449612,\n",
       " 'Economy': 0.4390400331023068,\n",
       " 'Kids': 0.8401360544217688,\n",
       " 'Premium': 0.7715736040609137,\n",
       " 'Standard': 0.5234943326002368,\n",
       " 'Test': 0.75,\n",
       " 'VIP': 0.7733333333333333,\n",
       " 'VIP+': 0.896551724137931,\n",
       " 'XL': 0.7112068965517241}"
      ]
     },
     "execution_count": 15,
     "metadata": {},
     "output_type": "execute_result"
    }
   ],
   "source": [
    "df"
   ]
  },
  {
   "cell_type": "code",
   "execution_count": 22,
   "metadata": {},
   "outputs": [],
   "source": [
    "data_target_encode['offer_class_group'] = data_target_encode['offer_class_group'].apply(df.get)"
   ]
  },
  {
   "cell_type": "code",
   "execution_count": 28,
   "metadata": {},
   "outputs": [
    {
     "name": "stdout",
     "output_type": "stream",
     "text": [
      "CPU times: user 2 µs, sys: 0 ns, total: 2 µs\n",
      "Wall time: 3.81 µs\n"
     ]
    },
    {
     "name": "stderr",
     "output_type": "stream",
     "text": [
      "/Users/cornev/anaconda3/lib/python3.6/site-packages/sklearn/preprocessing/label.py:219: DataConversionWarning: A column-vector y was passed when a 1d array was expected. Please change the shape of y to (n_samples, ), for example using ravel().\n",
      "  y = column_or_1d(y, warn=True)\n",
      "/Users/cornev/anaconda3/lib/python3.6/site-packages/sklearn/preprocessing/label.py:252: DataConversionWarning: A column-vector y was passed when a 1d array was expected. Please change the shape of y to (n_samples, ), for example using ravel().\n",
      "  y = column_or_1d(y, warn=True)\n"
     ]
    },
    {
     "name": "stdout",
     "output_type": "stream",
     "text": [
      "0.8880648287433465\n",
      "0.8782894837472699\n"
     ]
    }
   ],
   "source": [
    "%time\n",
    "y = data_target_encode['driver_response']\n",
    "data_train, data_test, y_train, y_test = train_test_split(data_target_encode.drop(['driver_response','ride_type_desc'], axis=1), y, test_size=0.3, random_state=42)\n",
    "roc_auc_score_func(data_train, data_test, y_train, y_test)"
   ]
  },
  {
   "cell_type": "markdown",
   "metadata": {},
   "source": [
    "**Weights of Evidence**"
   ]
  },
  {
   "cell_type": "code",
   "execution_count": 29,
   "metadata": {},
   "outputs": [],
   "source": [
    "def get_woe_stat(df_train, col, target_col):\n",
    "    stat = df_train.groupby(col)[target_col].agg(\n",
    "        [np.mean, np.size, np.count_nonzero], sort=False\n",
    "    )\n",
    "    stat.rename(columns={'count_nonzero': 'good', 'size': 'obs', 'mean': 'event_rate'}, inplace=True)\n",
    "    stat['all_good'] = stat['good'].sum()\n",
    "    stat['p_good'] = stat['good'] / stat['all_good']\n",
    "    stat['bad'] = stat['obs'] - stat['good']\n",
    "    stat['all_bad'] = stat['bad'].sum()\n",
    "    stat['p_bad'] = stat['bad'] / stat['all_bad']\n",
    "    stat['WOE'] = np.log(stat['p_good'] / stat['p_bad'])\n",
    "    stat['IV'] = ((stat['p_good'] - stat['p_bad']) * stat['WOE']).sum()\n",
    "    stat['variable'] = col\n",
    "    stat['category'] = stat.index\n",
    "    stat.reset_index(inplace=True)\n",
    "    stat.drop(labels=col, inplace=True, axis=1)\n",
    "    return stat"
   ]
  },
  {
   "cell_type": "code",
   "execution_count": 30,
   "metadata": {},
   "outputs": [],
   "source": [
    "test = get_woe_stat(data_raw, 'offer_class_group', 'driver_response')"
   ]
  },
  {
   "cell_type": "code",
   "execution_count": 34,
   "metadata": {},
   "outputs": [],
   "source": [
    "data_woe = pd.concat([data_raw.drop(['offer_class_group','ride_type_desc'], axis=1), test.WOE], axis=1)"
   ]
  },
  {
   "cell_type": "code",
   "execution_count": 35,
   "metadata": {},
   "outputs": [
    {
     "name": "stdout",
     "output_type": "stream",
     "text": [
      "CPU times: user 1e+03 ns, sys: 0 ns, total: 1e+03 ns\n",
      "Wall time: 3.81 µs\n"
     ]
    },
    {
     "name": "stderr",
     "output_type": "stream",
     "text": [
      "/Users/cornev/anaconda3/lib/python3.6/site-packages/sklearn/preprocessing/label.py:219: DataConversionWarning: A column-vector y was passed when a 1d array was expected. Please change the shape of y to (n_samples, ), for example using ravel().\n",
      "  y = column_or_1d(y, warn=True)\n",
      "/Users/cornev/anaconda3/lib/python3.6/site-packages/sklearn/preprocessing/label.py:252: DataConversionWarning: A column-vector y was passed when a 1d array was expected. Please change the shape of y to (n_samples, ), for example using ravel().\n",
      "  y = column_or_1d(y, warn=True)\n"
     ]
    },
    {
     "name": "stdout",
     "output_type": "stream",
     "text": [
      "0.8798867816250889\n",
      "0.8715563171861327\n"
     ]
    }
   ],
   "source": [
    "%time\n",
    "y = data_woe['driver_response']\n",
    "data_train, data_test, y_train, y_test = train_test_split(data_woe.drop('driver_response', axis=1), y, test_size=0.3, random_state=42)\n",
    "roc_auc_score_func(data_train, data_test, y_train, y_test)"
   ]
  },
  {
   "cell_type": "code",
   "execution_count": null,
   "metadata": {},
   "outputs": [],
   "source": []
  }
 ],
 "metadata": {
  "kernelspec": {
   "display_name": "Python 3",
   "language": "python",
   "name": "python3"
  },
  "language_info": {
   "codemirror_mode": {
    "name": "ipython",
    "version": 3
   },
   "file_extension": ".py",
   "mimetype": "text/x-python",
   "name": "python",
   "nbconvert_exporter": "python",
   "pygments_lexer": "ipython3",
   "version": "3.6.5"
  }
 },
 "nbformat": 4,
 "nbformat_minor": 2
}
